{
 "cells": [
  {
   "cell_type": "code",
   "execution_count": 3,
   "id": "47b16459",
   "metadata": {
    "scrolled": true
   },
   "outputs": [
    {
     "data": {
      "text/html": [
       "<div>\n",
       "<style scoped>\n",
       "    .dataframe tbody tr th:only-of-type {\n",
       "        vertical-align: middle;\n",
       "    }\n",
       "\n",
       "    .dataframe tbody tr th {\n",
       "        vertical-align: top;\n",
       "    }\n",
       "\n",
       "    .dataframe thead th {\n",
       "        text-align: right;\n",
       "    }\n",
       "</style>\n",
       "<table border=\"1\" class=\"dataframe\">\n",
       "  <thead>\n",
       "    <tr style=\"text-align: right;\">\n",
       "      <th></th>\n",
       "      <th>0</th>\n",
       "      <th>1</th>\n",
       "      <th>2</th>\n",
       "      <th>3</th>\n",
       "      <th>4</th>\n",
       "      <th>5</th>\n",
       "      <th>6</th>\n",
       "      <th>7</th>\n",
       "      <th>8</th>\n",
       "      <th>9</th>\n",
       "      <th>10</th>\n",
       "      <th>11</th>\n",
       "      <th>12</th>\n",
       "      <th>13</th>\n",
       "    </tr>\n",
       "  </thead>\n",
       "  <tbody>\n",
       "    <tr>\n",
       "      <th>0</th>\n",
       "      <td>1</td>\n",
       "      <td>14.23</td>\n",
       "      <td>1.71</td>\n",
       "      <td>2.43</td>\n",
       "      <td>15.6</td>\n",
       "      <td>127</td>\n",
       "      <td>2.80</td>\n",
       "      <td>3.06</td>\n",
       "      <td>0.28</td>\n",
       "      <td>2.29</td>\n",
       "      <td>5.64</td>\n",
       "      <td>1.04</td>\n",
       "      <td>3.92</td>\n",
       "      <td>1065</td>\n",
       "    </tr>\n",
       "    <tr>\n",
       "      <th>1</th>\n",
       "      <td>1</td>\n",
       "      <td>13.20</td>\n",
       "      <td>1.78</td>\n",
       "      <td>2.14</td>\n",
       "      <td>11.2</td>\n",
       "      <td>100</td>\n",
       "      <td>2.65</td>\n",
       "      <td>2.76</td>\n",
       "      <td>0.26</td>\n",
       "      <td>1.28</td>\n",
       "      <td>4.38</td>\n",
       "      <td>1.05</td>\n",
       "      <td>3.40</td>\n",
       "      <td>1050</td>\n",
       "    </tr>\n",
       "    <tr>\n",
       "      <th>2</th>\n",
       "      <td>1</td>\n",
       "      <td>13.16</td>\n",
       "      <td>2.36</td>\n",
       "      <td>2.67</td>\n",
       "      <td>18.6</td>\n",
       "      <td>101</td>\n",
       "      <td>2.80</td>\n",
       "      <td>3.24</td>\n",
       "      <td>0.30</td>\n",
       "      <td>2.81</td>\n",
       "      <td>5.68</td>\n",
       "      <td>1.03</td>\n",
       "      <td>3.17</td>\n",
       "      <td>1185</td>\n",
       "    </tr>\n",
       "    <tr>\n",
       "      <th>3</th>\n",
       "      <td>1</td>\n",
       "      <td>14.37</td>\n",
       "      <td>1.95</td>\n",
       "      <td>2.50</td>\n",
       "      <td>16.8</td>\n",
       "      <td>113</td>\n",
       "      <td>3.85</td>\n",
       "      <td>3.49</td>\n",
       "      <td>0.24</td>\n",
       "      <td>2.18</td>\n",
       "      <td>7.80</td>\n",
       "      <td>0.86</td>\n",
       "      <td>3.45</td>\n",
       "      <td>1480</td>\n",
       "    </tr>\n",
       "    <tr>\n",
       "      <th>4</th>\n",
       "      <td>1</td>\n",
       "      <td>13.24</td>\n",
       "      <td>2.59</td>\n",
       "      <td>2.87</td>\n",
       "      <td>21.0</td>\n",
       "      <td>118</td>\n",
       "      <td>2.80</td>\n",
       "      <td>2.69</td>\n",
       "      <td>0.39</td>\n",
       "      <td>1.82</td>\n",
       "      <td>4.32</td>\n",
       "      <td>1.04</td>\n",
       "      <td>2.93</td>\n",
       "      <td>735</td>\n",
       "    </tr>\n",
       "    <tr>\n",
       "      <th>...</th>\n",
       "      <td>...</td>\n",
       "      <td>...</td>\n",
       "      <td>...</td>\n",
       "      <td>...</td>\n",
       "      <td>...</td>\n",
       "      <td>...</td>\n",
       "      <td>...</td>\n",
       "      <td>...</td>\n",
       "      <td>...</td>\n",
       "      <td>...</td>\n",
       "      <td>...</td>\n",
       "      <td>...</td>\n",
       "      <td>...</td>\n",
       "      <td>...</td>\n",
       "    </tr>\n",
       "    <tr>\n",
       "      <th>173</th>\n",
       "      <td>3</td>\n",
       "      <td>13.71</td>\n",
       "      <td>5.65</td>\n",
       "      <td>2.45</td>\n",
       "      <td>20.5</td>\n",
       "      <td>95</td>\n",
       "      <td>1.68</td>\n",
       "      <td>0.61</td>\n",
       "      <td>0.52</td>\n",
       "      <td>1.06</td>\n",
       "      <td>7.70</td>\n",
       "      <td>0.64</td>\n",
       "      <td>1.74</td>\n",
       "      <td>740</td>\n",
       "    </tr>\n",
       "    <tr>\n",
       "      <th>174</th>\n",
       "      <td>3</td>\n",
       "      <td>13.40</td>\n",
       "      <td>3.91</td>\n",
       "      <td>2.48</td>\n",
       "      <td>23.0</td>\n",
       "      <td>102</td>\n",
       "      <td>1.80</td>\n",
       "      <td>0.75</td>\n",
       "      <td>0.43</td>\n",
       "      <td>1.41</td>\n",
       "      <td>7.30</td>\n",
       "      <td>0.70</td>\n",
       "      <td>1.56</td>\n",
       "      <td>750</td>\n",
       "    </tr>\n",
       "    <tr>\n",
       "      <th>175</th>\n",
       "      <td>3</td>\n",
       "      <td>13.27</td>\n",
       "      <td>4.28</td>\n",
       "      <td>2.26</td>\n",
       "      <td>20.0</td>\n",
       "      <td>120</td>\n",
       "      <td>1.59</td>\n",
       "      <td>0.69</td>\n",
       "      <td>0.43</td>\n",
       "      <td>1.35</td>\n",
       "      <td>10.20</td>\n",
       "      <td>0.59</td>\n",
       "      <td>1.56</td>\n",
       "      <td>835</td>\n",
       "    </tr>\n",
       "    <tr>\n",
       "      <th>176</th>\n",
       "      <td>3</td>\n",
       "      <td>13.17</td>\n",
       "      <td>2.59</td>\n",
       "      <td>2.37</td>\n",
       "      <td>20.0</td>\n",
       "      <td>120</td>\n",
       "      <td>1.65</td>\n",
       "      <td>0.68</td>\n",
       "      <td>0.53</td>\n",
       "      <td>1.46</td>\n",
       "      <td>9.30</td>\n",
       "      <td>0.60</td>\n",
       "      <td>1.62</td>\n",
       "      <td>840</td>\n",
       "    </tr>\n",
       "    <tr>\n",
       "      <th>177</th>\n",
       "      <td>3</td>\n",
       "      <td>14.13</td>\n",
       "      <td>4.10</td>\n",
       "      <td>2.74</td>\n",
       "      <td>24.5</td>\n",
       "      <td>96</td>\n",
       "      <td>2.05</td>\n",
       "      <td>0.76</td>\n",
       "      <td>0.56</td>\n",
       "      <td>1.35</td>\n",
       "      <td>9.20</td>\n",
       "      <td>0.61</td>\n",
       "      <td>1.60</td>\n",
       "      <td>560</td>\n",
       "    </tr>\n",
       "  </tbody>\n",
       "</table>\n",
       "<p>178 rows × 14 columns</p>\n",
       "</div>"
      ],
      "text/plain": [
       "     0      1     2     3     4    5     6     7     8     9      10    11  \\\n",
       "0     1  14.23  1.71  2.43  15.6  127  2.80  3.06  0.28  2.29   5.64  1.04   \n",
       "1     1  13.20  1.78  2.14  11.2  100  2.65  2.76  0.26  1.28   4.38  1.05   \n",
       "2     1  13.16  2.36  2.67  18.6  101  2.80  3.24  0.30  2.81   5.68  1.03   \n",
       "3     1  14.37  1.95  2.50  16.8  113  3.85  3.49  0.24  2.18   7.80  0.86   \n",
       "4     1  13.24  2.59  2.87  21.0  118  2.80  2.69  0.39  1.82   4.32  1.04   \n",
       "..   ..    ...   ...   ...   ...  ...   ...   ...   ...   ...    ...   ...   \n",
       "173   3  13.71  5.65  2.45  20.5   95  1.68  0.61  0.52  1.06   7.70  0.64   \n",
       "174   3  13.40  3.91  2.48  23.0  102  1.80  0.75  0.43  1.41   7.30  0.70   \n",
       "175   3  13.27  4.28  2.26  20.0  120  1.59  0.69  0.43  1.35  10.20  0.59   \n",
       "176   3  13.17  2.59  2.37  20.0  120  1.65  0.68  0.53  1.46   9.30  0.60   \n",
       "177   3  14.13  4.10  2.74  24.5   96  2.05  0.76  0.56  1.35   9.20  0.61   \n",
       "\n",
       "       12    13  \n",
       "0    3.92  1065  \n",
       "1    3.40  1050  \n",
       "2    3.17  1185  \n",
       "3    3.45  1480  \n",
       "4    2.93   735  \n",
       "..    ...   ...  \n",
       "173  1.74   740  \n",
       "174  1.56   750  \n",
       "175  1.56   835  \n",
       "176  1.62   840  \n",
       "177  1.60   560  \n",
       "\n",
       "[178 rows x 14 columns]"
      ]
     },
     "execution_count": 3,
     "metadata": {},
     "output_type": "execute_result"
    }
   ],
   "source": [
    "import pandas as pd\n",
    "data = pd.read_csv('wine.data',header=None)\n",
    "data"
   ]
  },
  {
   "cell_type": "code",
   "execution_count": 4,
   "id": "353d08fd",
   "metadata": {},
   "outputs": [
    {
     "data": {
      "image/png": "[encoded data removed]",
      "text/plain": [
       "<Figure size 640x480 with 1 Axes>"
      ]
     },
     "metadata": {},
     "output_type": "display_data"
    }
   ],
   "source": [
    "import matplotlib.pyplot as plt\n",
    "plt.scatter(data.iloc[:,0],data.iloc[:,-1])\n",
    "plt.xlabel('Alcohol')\n",
    "plt.ylabel('Quality')\n",
    "plt.title('Alcohol Quality')\n",
    "plt.show()"
   ]
  },
  {
   "cell_type": "markdown",
   "id": "d9baa05a",
   "metadata": {},
   "source": [
    "### Intention = Predict the Quality"
   ]
  },
  {
   "cell_type": "code",
   "execution_count": 5,
   "id": "4985e785",
   "metadata": {},
   "outputs": [
    {
     "data": {
      "text/plain": [
       "[0, 1, 2, 3, 4, 5, 6, 7, 8, 9, 10, 11, 12, 13]"
      ]
     },
     "execution_count": 5,
     "metadata": {},
     "output_type": "execute_result"
    }
   ],
   "source": [
    "a = list(data.columns) # To get column names\n",
    "a "
   ]
  },
  {
   "cell_type": "code",
   "execution_count": 6,
   "id": "0b1f54e2",
   "metadata": {},
   "outputs": [
    {
     "data": {
      "text/plain": [
       "0      1065\n",
       "1      1050\n",
       "2      1185\n",
       "3      1480\n",
       "4       735\n",
       "       ... \n",
       "173     740\n",
       "174     750\n",
       "175     835\n",
       "176     840\n",
       "177     560\n",
       "Name: 13, Length: 178, dtype: int64"
      ]
     },
     "execution_count": 6,
     "metadata": {},
     "output_type": "execute_result"
    }
   ],
   "source": [
    "from sklearn.model_selection import train_test_split\n",
    "from sklearn.linear_model import LinearRegression\n",
    "x = data[list(data.columns)[:-1]]\n",
    "y = data.iloc[:,-1]\n",
    "y"
   ]
  },
  {
   "cell_type": "code",
   "execution_count": 7,
   "id": "bd568adc",
   "metadata": {},
   "outputs": [],
   "source": [
    "xtrain,xtest,ytrain,ytest = train_test_split(x,y,random_state=42)"
   ]
  },
  {
   "cell_type": "code",
   "execution_count": 8,
   "id": "5362bf33",
   "metadata": {},
   "outputs": [
    {
     "name": "stdout",
     "output_type": "stream",
     "text": [
      "xtrain.shape = (133, 13)\n",
      "xtest.shape = (45, 13)\n",
      "ytrain.shape = (133,)\n",
      "ytest.shape = (45,)\n"
     ]
    }
   ],
   "source": [
    "print(\"xtrain.shape =\",xtrain.shape)\n",
    "print(\"xtest.shape =\",xtest.shape)\n",
    "print(\"ytrain.shape =\",ytrain.shape)\n",
    "print(\"ytest.shape =\",ytest.shape)"
   ]
  },
  {
   "cell_type": "code",
   "execution_count": 9,
   "id": "bc5ab51f",
   "metadata": {},
   "outputs": [
    {
     "data": {
      "text/plain": [
       "LinearRegression()"
      ]
     },
     "execution_count": 9,
     "metadata": {},
     "output_type": "execute_result"
    }
   ],
   "source": [
    "model = LinearRegression()\n",
    "model.fit(xtrain,ytrain)"
   ]
  },
  {
   "cell_type": "code",
   "execution_count": 10,
   "id": "878d73dd",
   "metadata": {},
   "outputs": [
    {
     "data": {
      "text/plain": [
       "array([1052.34716076, 1042.97696569,  496.06228404, 1098.28840218,\n",
       "        548.71962888, 1177.3166432 ,  410.06833427,  649.34255182,\n",
       "        521.47721339,  518.60028114,  945.93171365,  667.48788862,\n",
       "        861.02024932,  559.55884833, 1218.63440997,  459.77869001,\n",
       "        572.93999854,  536.41258952, 1132.92050991,  484.50665659,\n",
       "       1208.67898411,  610.47816917,  707.21439961,  729.82865512,\n",
       "        696.1238394 ,  726.67213282,  489.49435358,  694.58329581,\n",
       "        533.14584213, 1173.1534795 , 1081.38794186,  425.37665623,\n",
       "        436.65277612, 1111.05770624, 1080.36360349, 1051.90742979,\n",
       "       1073.18352021,  427.36895534,  535.89551212,  956.92987739,\n",
       "        917.0030857 ,  518.8452472 ,  608.32563332,  785.79304476,\n",
       "        465.17754199])"
      ]
     },
     "execution_count": 10,
     "metadata": {},
     "output_type": "execute_result"
    }
   ],
   "source": [
    "k = model.predict(xtest)\n",
    "k"
   ]
  },
  {
   "cell_type": "code",
   "execution_count": 11,
   "id": "f482bfda",
   "metadata": {},
   "outputs": [
    {
     "data": {
      "text/plain": [
       "0.7026391374337797"
      ]
     },
     "execution_count": 11,
     "metadata": {},
     "output_type": "execute_result"
    }
   ],
   "source": [
    "ypred = model.score(xtest,ytest)\n",
    "ypred"
   ]
  },
  {
   "cell_type": "code",
   "execution_count": 12,
   "id": "2ced9b6e",
   "metadata": {},
   "outputs": [
    {
     "name": "stdout",
     "output_type": "stream",
     "text": [
      "Predicted Value = 1052.347160759151 | Actual Value = 845\n",
      "Predicted Value = 1042.9769656872857 | Actual Value = 1080\n",
      "Predicted Value = 496.0622840433545 | Actual Value = 600\n",
      "Predicted Value = 1098.2884021792818 | Actual Value = 1285\n",
      "Predicted Value = 548.7196288830278 | Actual Value = 510\n",
      "Predicted Value = 1177.3166431988916 | Actual Value = 1280\n",
      "Predicted Value = 410.06833427383555 | Actual Value = 564\n",
      "Predicted Value = 649.3425518208581 | Actual Value = 750\n",
      "Predicted Value = 521.4772133879953 | Actual Value = 680\n",
      "Predicted Value = 518.6002811367225 | Actual Value = 780\n",
      "Predicted Value = 945.9317136480201 | Actual Value = 845\n",
      "Predicted Value = 667.4878886236513 | Actual Value = 500\n",
      "Predicted Value = 861.0202493229473 | Actual Value = 1035\n",
      "Predicted Value = 559.5588483292603 | Actual Value = 372\n",
      "Predicted Value = 1218.6344099743237 | Actual Value = 1310\n",
      "Predicted Value = 459.77869000986027 | Actual Value = 325\n",
      "Predicted Value = 572.939998541694 | Actual Value = 434\n",
      "Predicted Value = 536.4125895247372 | Actual Value = 630\n",
      "Predicted Value = 1132.9205099101719 | Actual Value = 1045\n",
      "Predicted Value = 484.5066565871278 | Actual Value = 385\n",
      "Predicted Value = 1208.678984109993 | Actual Value = 1680\n",
      "Predicted Value = 610.4781691703258 | Actual Value = 502\n",
      "Predicted Value = 707.2143996070514 | Actual Value = 680\n",
      "Predicted Value = 729.8286551151488 | Actual Value = 630\n",
      "Predicted Value = 696.1238394037772 | Actual Value = 470\n",
      "Predicted Value = 726.6721328170735 | Actual Value = 615\n",
      "Predicted Value = 489.4943535847619 | Actual Value = 345\n",
      "Predicted Value = 694.5832958143156 | Actual Value = 678\n",
      "Predicted Value = 533.1458421293241 | Actual Value = 480\n",
      "Predicted Value = 1173.153479504921 | Actual Value = 1120\n",
      "Predicted Value = 1081.3879418572628 | Actual Value = 1035\n",
      "Predicted Value = 425.3766562282942 | Actual Value = 342\n",
      "Predicted Value = 436.6527761176523 | Actual Value = 830\n",
      "Predicted Value = 1111.0577062402208 | Actual Value = 1515\n",
      "Predicted Value = 1080.3636034880533 | Actual Value = 1320\n",
      "Predicted Value = 1051.9074297896518 | Actual Value = 1095\n",
      "Predicted Value = 1073.1835202132588 | Actual Value = 660\n",
      "Predicted Value = 427.3689553438228 | Actual Value = 515\n",
      "Predicted Value = 535.895512123963 | Actual Value = 660\n",
      "Predicted Value = 956.9298773948342 | Actual Value = 620\n",
      "Predicted Value = 917.0030856977564 | Actual Value = 1020\n",
      "Predicted Value = 518.8452472011375 | Actual Value = 312\n",
      "Predicted Value = 608.3256333177043 | Actual Value = 450\n",
      "Predicted Value = 785.79304476217 | Actual Value = 750\n",
      "Predicted Value = 465.17754199205996 | Actual Value = 550\n"
     ]
    }
   ],
   "source": [
    "for i,pred in enumerate(k):\n",
    "    print(\"Predicted Value =\",pred,\"| Actual Value =\",ytest.iloc[i])"
   ]
  },
  {
   "cell_type": "code",
   "execution_count": 13,
   "id": "03f755ca",
   "metadata": {},
   "outputs": [
    {
     "data": {
      "text/plain": [
       "array([-308.76085432,   59.32502431,  -20.85303935,  140.29669949,\n",
       "         -8.05758865,    1.7843861 ,   79.19045302, -132.83431882,\n",
       "       -124.2983655 ,   43.68697287,   49.9083309 ,   47.40654969,\n",
       "        -32.70903008])"
      ]
     },
     "execution_count": 13,
     "metadata": {},
     "output_type": "execute_result"
    }
   ],
   "source": [
    "model.coef_ # 13 feature in total so 13 coefficient vallues"
   ]
  },
  {
   "cell_type": "markdown",
   "id": "3ddd0d15",
   "metadata": {},
   "source": [
    "## Scoring"
   ]
  },
  {
   "cell_type": "code",
   "execution_count": 14,
   "id": "2b9b4c44",
   "metadata": {},
   "outputs": [
    {
     "name": "stdout",
     "output_type": "stream",
     "text": [
      "0.7026391374337797\n"
     ]
    }
   ],
   "source": [
    "from sklearn.metrics import r2_score\n",
    "print(r2_score(ytest,k)) # r2_score(actual,predicted)"
   ]
  }
 ],
 "metadata": {
  "kernelspec": {
   "display_name": "Python 3 (ipykernel)",
   "language": "python",
   "name": "python3"
  },
  "language_info": {
   "codemirror_mode": {
    "name": "ipython",
    "version": 3
   },
   "file_extension": ".py",
   "mimetype": "text/x-python",
   "name": "python",
   "nbconvert_exporter": "python",
   "pygments_lexer": "ipython3",
   "version": "3.9.13"
  }
 },
 "nbformat": 4,
 "nbformat_minor": 5
}
