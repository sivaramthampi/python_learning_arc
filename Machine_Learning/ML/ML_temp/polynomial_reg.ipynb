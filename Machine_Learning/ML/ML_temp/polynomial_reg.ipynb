{
 "cells": [
  {
   "cell_type": "code",
   "execution_count": 1,
   "id": "d4189fb9",
   "metadata": {},
   "outputs": [],
   "source": [
    "import numpy as np\n",
    "import matplotlib.pyplot as plt\n",
    "from sklearn.linear_model import LinearRegression\n",
    "from sklearn.preprocessing import PolynomialFeatures"
   ]
  },
  {
   "cell_type": "code",
   "execution_count": 2,
   "id": "f2df0106",
   "metadata": {},
   "outputs": [],
   "source": [
    "x_train = [[6],[8],[10],[14],[18]]\n",
    "y_train = [[7],[9],[13],[17.5],[18]]\n",
    "x_test = [[6],[8],[11],[16]]\n",
    "y_test = [[8],[12],[15],[18]]"
   ]
  },
  {
   "cell_type": "code",
   "execution_count": 4,
   "id": "1386b9ad",
   "metadata": {},
   "outputs": [
    {
     "data": {
      "text/plain": [
       "LinearRegression()"
      ]
     },
     "execution_count": 4,
     "metadata": {},
     "output_type": "execute_result"
    }
   ],
   "source": [
    "regressor = LinearRegression()\n",
    "regressor.fit(x_train,y_train)"
   ]
  },
  {
   "cell_type": "code",
   "execution_count": 5,
   "id": "0af30771",
   "metadata": {},
   "outputs": [
    {
     "name": "stdout",
     "output_type": "stream",
     "text": [
      "[ 0.          0.26262626  0.52525253  0.78787879  1.05050505  1.31313131\n",
      "  1.57575758  1.83838384  2.1010101   2.36363636  2.62626263  2.88888889\n",
      "  3.15151515  3.41414141  3.67676768  3.93939394  4.2020202   4.46464646\n",
      "  4.72727273  4.98989899  5.25252525  5.51515152  5.77777778  6.04040404\n",
      "  6.3030303   6.56565657  6.82828283  7.09090909  7.35353535  7.61616162\n",
      "  7.87878788  8.14141414  8.4040404   8.66666667  8.92929293  9.19191919\n",
      "  9.45454545  9.71717172  9.97979798 10.24242424 10.50505051 10.76767677\n",
      " 11.03030303 11.29292929 11.55555556 11.81818182 12.08080808 12.34343434\n",
      " 12.60606061 12.86868687 13.13131313 13.39393939 13.65656566 13.91919192\n",
      " 14.18181818 14.44444444 14.70707071 14.96969697 15.23232323 15.49494949\n",
      " 15.75757576 16.02020202 16.28282828 16.54545455 16.80808081 17.07070707\n",
      " 17.33333333 17.5959596  17.85858586 18.12121212 18.38383838 18.64646465\n",
      " 18.90909091 19.17171717 19.43434343 19.6969697  19.95959596 20.22222222\n",
      " 20.48484848 20.74747475 21.01010101 21.27272727 21.53535354 21.7979798\n",
      " 22.06060606 22.32323232 22.58585859 22.84848485 23.11111111 23.37373737\n",
      " 23.63636364 23.8989899  24.16161616 24.42424242 24.68686869 24.94949495\n",
      " 25.21212121 25.47474747 25.73737374 26.        ]\n"
     ]
    }
   ],
   "source": [
    "xx = np.linspace(0,26,100)\n",
    "print(xx)"
   ]
  },
  {
   "cell_type": "code",
   "execution_count": 7,
   "id": "9591a387",
   "metadata": {},
   "outputs": [
    {
     "name": "stdout",
     "output_type": "stream",
     "text": [
      "[[ 0.        ]\n",
      " [ 0.26262626]\n",
      " [ 0.52525253]\n",
      " [ 0.78787879]\n",
      " [ 1.05050505]\n",
      " [ 1.31313131]\n",
      " [ 1.57575758]\n",
      " [ 1.83838384]\n",
      " [ 2.1010101 ]\n",
      " [ 2.36363636]\n",
      " [ 2.62626263]\n",
      " [ 2.88888889]\n",
      " [ 3.15151515]\n",
      " [ 3.41414141]\n",
      " [ 3.67676768]\n",
      " [ 3.93939394]\n",
      " [ 4.2020202 ]\n",
      " [ 4.46464646]\n",
      " [ 4.72727273]\n",
      " [ 4.98989899]\n",
      " [ 5.25252525]\n",
      " [ 5.51515152]\n",
      " [ 5.77777778]\n",
      " [ 6.04040404]\n",
      " [ 6.3030303 ]\n",
      " [ 6.56565657]\n",
      " [ 6.82828283]\n",
      " [ 7.09090909]\n",
      " [ 7.35353535]\n",
      " [ 7.61616162]\n",
      " [ 7.87878788]\n",
      " [ 8.14141414]\n",
      " [ 8.4040404 ]\n",
      " [ 8.66666667]\n",
      " [ 8.92929293]\n",
      " [ 9.19191919]\n",
      " [ 9.45454545]\n",
      " [ 9.71717172]\n",
      " [ 9.97979798]\n",
      " [10.24242424]\n",
      " [10.50505051]\n",
      " [10.76767677]\n",
      " [11.03030303]\n",
      " [11.29292929]\n",
      " [11.55555556]\n",
      " [11.81818182]\n",
      " [12.08080808]\n",
      " [12.34343434]\n",
      " [12.60606061]\n",
      " [12.86868687]\n",
      " [13.13131313]\n",
      " [13.39393939]\n",
      " [13.65656566]\n",
      " [13.91919192]\n",
      " [14.18181818]\n",
      " [14.44444444]\n",
      " [14.70707071]\n",
      " [14.96969697]\n",
      " [15.23232323]\n",
      " [15.49494949]\n",
      " [15.75757576]\n",
      " [16.02020202]\n",
      " [16.28282828]\n",
      " [16.54545455]\n",
      " [16.80808081]\n",
      " [17.07070707]\n",
      " [17.33333333]\n",
      " [17.5959596 ]\n",
      " [17.85858586]\n",
      " [18.12121212]\n",
      " [18.38383838]\n",
      " [18.64646465]\n",
      " [18.90909091]\n",
      " [19.17171717]\n",
      " [19.43434343]\n",
      " [19.6969697 ]\n",
      " [19.95959596]\n",
      " [20.22222222]\n",
      " [20.48484848]\n",
      " [20.74747475]\n",
      " [21.01010101]\n",
      " [21.27272727]\n",
      " [21.53535354]\n",
      " [21.7979798 ]\n",
      " [22.06060606]\n",
      " [22.32323232]\n",
      " [22.58585859]\n",
      " [22.84848485]\n",
      " [23.11111111]\n",
      " [23.37373737]\n",
      " [23.63636364]\n",
      " [23.8989899 ]\n",
      " [24.16161616]\n",
      " [24.42424242]\n",
      " [24.68686869]\n",
      " [24.94949495]\n",
      " [25.21212121]\n",
      " [25.47474747]\n",
      " [25.73737374]\n",
      " [26.        ]]\n"
     ]
    }
   ],
   "source": [
    "xx = xx.reshape(xx.shape[0],1)\n",
    "print(xx)"
   ]
  },
  {
   "cell_type": "code",
   "execution_count": 8,
   "id": "961f575c",
   "metadata": {},
   "outputs": [
    {
     "name": "stdout",
     "output_type": "stream",
     "text": [
      "[[ 1.96551724]\n",
      " [ 2.22191745]\n",
      " [ 2.47831766]\n",
      " [ 2.73471787]\n",
      " [ 2.99111808]\n",
      " [ 3.24751829]\n",
      " [ 3.5039185 ]\n",
      " [ 3.7603187 ]\n",
      " [ 4.01671891]\n",
      " [ 4.27311912]\n",
      " [ 4.52951933]\n",
      " [ 4.78591954]\n",
      " [ 5.04231975]\n",
      " [ 5.29871996]\n",
      " [ 5.55512017]\n",
      " [ 5.81152038]\n",
      " [ 6.06792059]\n",
      " [ 6.32432079]\n",
      " [ 6.580721  ]\n",
      " [ 6.83712121]\n",
      " [ 7.09352142]\n",
      " [ 7.34992163]\n",
      " [ 7.60632184]\n",
      " [ 7.86272205]\n",
      " [ 8.11912226]\n",
      " [ 8.37552247]\n",
      " [ 8.63192268]\n",
      " [ 8.88832288]\n",
      " [ 9.14472309]\n",
      " [ 9.4011233 ]\n",
      " [ 9.65752351]\n",
      " [ 9.91392372]\n",
      " [10.17032393]\n",
      " [10.42672414]\n",
      " [10.68312435]\n",
      " [10.93952456]\n",
      " [11.19592476]\n",
      " [11.45232497]\n",
      " [11.70872518]\n",
      " [11.96512539]\n",
      " [12.2215256 ]\n",
      " [12.47792581]\n",
      " [12.73432602]\n",
      " [12.99072623]\n",
      " [13.24712644]\n",
      " [13.50352665]\n",
      " [13.75992685]\n",
      " [14.01632706]\n",
      " [14.27272727]\n",
      " [14.52912748]\n",
      " [14.78552769]\n",
      " [15.0419279 ]\n",
      " [15.29832811]\n",
      " [15.55472832]\n",
      " [15.81112853]\n",
      " [16.06752874]\n",
      " [16.32392894]\n",
      " [16.58032915]\n",
      " [16.83672936]\n",
      " [17.09312957]\n",
      " [17.34952978]\n",
      " [17.60592999]\n",
      " [17.8623302 ]\n",
      " [18.11873041]\n",
      " [18.37513062]\n",
      " [18.63153083]\n",
      " [18.88793103]\n",
      " [19.14433124]\n",
      " [19.40073145]\n",
      " [19.65713166]\n",
      " [19.91353187]\n",
      " [20.16993208]\n",
      " [20.42633229]\n",
      " [20.6827325 ]\n",
      " [20.93913271]\n",
      " [21.19553292]\n",
      " [21.45193312]\n",
      " [21.70833333]\n",
      " [21.96473354]\n",
      " [22.22113375]\n",
      " [22.47753396]\n",
      " [22.73393417]\n",
      " [22.99033438]\n",
      " [23.24673459]\n",
      " [23.5031348 ]\n",
      " [23.75953501]\n",
      " [24.01593521]\n",
      " [24.27233542]\n",
      " [24.52873563]\n",
      " [24.78513584]\n",
      " [25.04153605]\n",
      " [25.29793626]\n",
      " [25.55433647]\n",
      " [25.81073668]\n",
      " [26.06713689]\n",
      " [26.3235371 ]\n",
      " [26.5799373 ]\n",
      " [26.83633751]\n",
      " [27.09273772]\n",
      " [27.34913793]]\n"
     ]
    }
   ],
   "source": [
    "yy = regressor.predict(xx)\n",
    "print(yy)"
   ]
  },
  {
   "cell_type": "code",
   "execution_count": 11,
   "id": "4488a731",
   "metadata": {},
   "outputs": [
    {
     "data": {
      "text/plain": [
       "[<matplotlib.lines.Line2D at 0x23f8e961820>]"
      ]
     },
     "execution_count": 11,
     "metadata": {},
     "output_type": "execute_result"
    },
    {
     "data": {
      "image/png": "[encoded data removed]",
      "text/plain": [
       "<Figure size 640x480 with 1 Axes>"
      ]
     },
     "metadata": {},
     "output_type": "display_data"
    }
   ],
   "source": [
    "plt.scatter(x_train,y_train)\n",
    "plt.plot(xx,yy)"
   ]
  },
  {
   "cell_type": "code",
   "execution_count": 18,
   "id": "fbf391b8",
   "metadata": {},
   "outputs": [
    {
     "name": "stdout",
     "output_type": "stream",
     "text": [
      "[[  1.   6.  36.]\n",
      " [  1.   8.  64.]\n",
      " [  1.  10. 100.]\n",
      " [  1.  14. 196.]\n",
      " [  1.  18. 324.]]\n",
      "[[  1.   6.  36.]\n",
      " [  1.   8.  64.]\n",
      " [  1.  11. 121.]\n",
      " [  1.  16. 256.]]\n"
     ]
    }
   ],
   "source": [
    "quadratic_features = PolynomialFeatures(degree=2)\n",
    "x_trainqua = quadratic_features.fit_transform(x_train)\n",
    "xtestqua = quadratic_features.transform(x_test)\n",
    "print(x_trainqua)\n",
    "print(xtestqua)"
   ]
  },
  {
   "cell_type": "code",
   "execution_count": 22,
   "id": "e339d3f4",
   "metadata": {},
   "outputs": [
    {
     "name": "stdout",
     "output_type": "stream",
     "text": [
      "[[  1.   6.  36.]\n",
      " [  1.   8.  64.]\n",
      " [  1.  10. 100.]\n",
      " [  1.  14. 196.]\n",
      " [  1.  18. 324.]]\n"
     ]
    }
   ],
   "source": [
    "quadratic_features.fit(x_train)\n",
    "xtrainqua = quadratic_features.transform(x_train)\n",
    "print(x_trainqua)"
   ]
  },
  {
   "cell_type": "code",
   "execution_count": 23,
   "id": "7c66e316",
   "metadata": {},
   "outputs": [
    {
     "data": {
      "text/plain": [
       "array([[1.00000000e+00, 0.00000000e+00, 0.00000000e+00],\n",
       "       [1.00000000e+00, 2.62626263e-01, 6.89725538e-02],\n",
       "       [1.00000000e+00, 5.25252525e-01, 2.75890215e-01],\n",
       "       [1.00000000e+00, 7.87878788e-01, 6.20752984e-01],\n",
       "       [1.00000000e+00, 1.05050505e+00, 1.10356086e+00],\n",
       "       [1.00000000e+00, 1.31313131e+00, 1.72431385e+00],\n",
       "       [1.00000000e+00, 1.57575758e+00, 2.48301194e+00],\n",
       "       [1.00000000e+00, 1.83838384e+00, 3.37965514e+00],\n",
       "       [1.00000000e+00, 2.10101010e+00, 4.41424344e+00],\n",
       "       [1.00000000e+00, 2.36363636e+00, 5.58677686e+00],\n",
       "       [1.00000000e+00, 2.62626263e+00, 6.89725538e+00],\n",
       "       [1.00000000e+00, 2.88888889e+00, 8.34567901e+00],\n",
       "       [1.00000000e+00, 3.15151515e+00, 9.93204775e+00],\n",
       "       [1.00000000e+00, 3.41414141e+00, 1.16563616e+01],\n",
       "       [1.00000000e+00, 3.67676768e+00, 1.35186205e+01],\n",
       "       [1.00000000e+00, 3.93939394e+00, 1.55188246e+01],\n",
       "       [1.00000000e+00, 4.20202020e+00, 1.76569738e+01],\n",
       "       [1.00000000e+00, 4.46464646e+00, 1.99330681e+01],\n",
       "       [1.00000000e+00, 4.72727273e+00, 2.23471074e+01],\n",
       "       [1.00000000e+00, 4.98989899e+00, 2.48990919e+01],\n",
       "       [1.00000000e+00, 5.25252525e+00, 2.75890215e+01],\n",
       "       [1.00000000e+00, 5.51515152e+00, 3.04168962e+01],\n",
       "       [1.00000000e+00, 5.77777778e+00, 3.33827160e+01],\n",
       "       [1.00000000e+00, 6.04040404e+00, 3.64864810e+01],\n",
       "       [1.00000000e+00, 6.30303030e+00, 3.97281910e+01],\n",
       "       [1.00000000e+00, 6.56565657e+00, 4.31078461e+01],\n",
       "       [1.00000000e+00, 6.82828283e+00, 4.66254464e+01],\n",
       "       [1.00000000e+00, 7.09090909e+00, 5.02809917e+01],\n",
       "       [1.00000000e+00, 7.35353535e+00, 5.40744822e+01],\n",
       "       [1.00000000e+00, 7.61616162e+00, 5.80059178e+01],\n",
       "       [1.00000000e+00, 7.87878788e+00, 6.20752984e+01],\n",
       "       [1.00000000e+00, 8.14141414e+00, 6.62826242e+01],\n",
       "       [1.00000000e+00, 8.40404040e+00, 7.06278951e+01],\n",
       "       [1.00000000e+00, 8.66666667e+00, 7.51111111e+01],\n",
       "       [1.00000000e+00, 8.92929293e+00, 7.97322722e+01],\n",
       "       [1.00000000e+00, 9.19191919e+00, 8.44913784e+01],\n",
       "       [1.00000000e+00, 9.45454545e+00, 8.93884298e+01],\n",
       "       [1.00000000e+00, 9.71717172e+00, 9.44234262e+01],\n",
       "       [1.00000000e+00, 9.97979798e+00, 9.95963677e+01],\n",
       "       [1.00000000e+00, 1.02424242e+01, 1.04907254e+02],\n",
       "       [1.00000000e+00, 1.05050505e+01, 1.10356086e+02],\n",
       "       [1.00000000e+00, 1.07676768e+01, 1.15942863e+02],\n",
       "       [1.00000000e+00, 1.10303030e+01, 1.21667585e+02],\n",
       "       [1.00000000e+00, 1.12929293e+01, 1.27530252e+02],\n",
       "       [1.00000000e+00, 1.15555556e+01, 1.33530864e+02],\n",
       "       [1.00000000e+00, 1.18181818e+01, 1.39669421e+02],\n",
       "       [1.00000000e+00, 1.20808081e+01, 1.45945924e+02],\n",
       "       [1.00000000e+00, 1.23434343e+01, 1.52360371e+02],\n",
       "       [1.00000000e+00, 1.26060606e+01, 1.58912764e+02],\n",
       "       [1.00000000e+00, 1.28686869e+01, 1.65603102e+02],\n",
       "       [1.00000000e+00, 1.31313131e+01, 1.72431385e+02],\n",
       "       [1.00000000e+00, 1.33939394e+01, 1.79397612e+02],\n",
       "       [1.00000000e+00, 1.36565657e+01, 1.86501786e+02],\n",
       "       [1.00000000e+00, 1.39191919e+01, 1.93743904e+02],\n",
       "       [1.00000000e+00, 1.41818182e+01, 2.01123967e+02],\n",
       "       [1.00000000e+00, 1.44444444e+01, 2.08641975e+02],\n",
       "       [1.00000000e+00, 1.47070707e+01, 2.16297929e+02],\n",
       "       [1.00000000e+00, 1.49696970e+01, 2.24091827e+02],\n",
       "       [1.00000000e+00, 1.52323232e+01, 2.32023671e+02],\n",
       "       [1.00000000e+00, 1.54949495e+01, 2.40093460e+02],\n",
       "       [1.00000000e+00, 1.57575758e+01, 2.48301194e+02],\n",
       "       [1.00000000e+00, 1.60202020e+01, 2.56646873e+02],\n",
       "       [1.00000000e+00, 1.62828283e+01, 2.65130497e+02],\n",
       "       [1.00000000e+00, 1.65454545e+01, 2.73752066e+02],\n",
       "       [1.00000000e+00, 1.68080808e+01, 2.82511580e+02],\n",
       "       [1.00000000e+00, 1.70707071e+01, 2.91409040e+02],\n",
       "       [1.00000000e+00, 1.73333333e+01, 3.00444444e+02],\n",
       "       [1.00000000e+00, 1.75959596e+01, 3.09617794e+02],\n",
       "       [1.00000000e+00, 1.78585859e+01, 3.18929089e+02],\n",
       "       [1.00000000e+00, 1.81212121e+01, 3.28378329e+02],\n",
       "       [1.00000000e+00, 1.83838384e+01, 3.37965514e+02],\n",
       "       [1.00000000e+00, 1.86464646e+01, 3.47690644e+02],\n",
       "       [1.00000000e+00, 1.89090909e+01, 3.57553719e+02],\n",
       "       [1.00000000e+00, 1.91717172e+01, 3.67554739e+02],\n",
       "       [1.00000000e+00, 1.94343434e+01, 3.77693705e+02],\n",
       "       [1.00000000e+00, 1.96969697e+01, 3.87970615e+02],\n",
       "       [1.00000000e+00, 1.99595960e+01, 3.98385471e+02],\n",
       "       [1.00000000e+00, 2.02222222e+01, 4.08938272e+02],\n",
       "       [1.00000000e+00, 2.04848485e+01, 4.19629017e+02],\n",
       "       [1.00000000e+00, 2.07474747e+01, 4.30457708e+02],\n",
       "       [1.00000000e+00, 2.10101010e+01, 4.41424344e+02],\n",
       "       [1.00000000e+00, 2.12727273e+01, 4.52528926e+02],\n",
       "       [1.00000000e+00, 2.15353535e+01, 4.63771452e+02],\n",
       "       [1.00000000e+00, 2.17979798e+01, 4.75151923e+02],\n",
       "       [1.00000000e+00, 2.20606061e+01, 4.86670340e+02],\n",
       "       [1.00000000e+00, 2.23232323e+01, 4.98326701e+02],\n",
       "       [1.00000000e+00, 2.25858586e+01, 5.10121008e+02],\n",
       "       [1.00000000e+00, 2.28484848e+01, 5.22053260e+02],\n",
       "       [1.00000000e+00, 2.31111111e+01, 5.34123457e+02],\n",
       "       [1.00000000e+00, 2.33737374e+01, 5.46331599e+02],\n",
       "       [1.00000000e+00, 2.36363636e+01, 5.58677686e+02],\n",
       "       [1.00000000e+00, 2.38989899e+01, 5.71161718e+02],\n",
       "       [1.00000000e+00, 2.41616162e+01, 5.83783696e+02],\n",
       "       [1.00000000e+00, 2.44242424e+01, 5.96543618e+02],\n",
       "       [1.00000000e+00, 2.46868687e+01, 6.09441486e+02],\n",
       "       [1.00000000e+00, 2.49494949e+01, 6.22477298e+02],\n",
       "       [1.00000000e+00, 2.52121212e+01, 6.35651056e+02],\n",
       "       [1.00000000e+00, 2.54747475e+01, 6.48962759e+02],\n",
       "       [1.00000000e+00, 2.57373737e+01, 6.62412407e+02],\n",
       "       [1.00000000e+00, 2.60000000e+01, 6.76000000e+02]])"
      ]
     },
     "execution_count": 23,
     "metadata": {},
     "output_type": "execute_result"
    }
   ],
   "source": [
    "regre_qua = LinearRegression()\n",
    "regre_qua.fit(x_trainqua,y_train)\n",
    "xx_qua = quadratic_features.transform(xx)\n",
    "xx_qua"
   ]
  },
  {
   "cell_type": "code",
   "execution_count": 24,
   "id": "5820f429",
   "metadata": {},
   "outputs": [],
   "source": [
    "yy_prediction = regre_qua.predict(xx_qua)"
   ]
  },
  {
   "cell_type": "code",
   "execution_count": 26,
   "id": "0a9e8195",
   "metadata": {},
   "outputs": [
    {
     "data": {
      "image/png": "[encoded data removed]",
      "text/plain": [
       "<Figure size 640x480 with 1 Axes>"
      ]
     },
     "metadata": {},
     "output_type": "display_data"
    }
   ],
   "source": [
    "plt.scatter(x_train,y_train)\n",
    "plt.plot(xx,yy_prediction,c='r',linestyle='--')\n",
    "plt.plot(xx,yy,c='g',linestyle='--')\n",
    "plt.title(\"Pizza Price Reggeresor on Diameter\")\n",
    "plt.xlabel(\"Diameter\")\n",
    "plt.ylabel(\"Price\")\n",
    "plt.axis=[0,25,0,25]\n",
    "plt.grid()\n",
    "plt.show()"
   ]
  },
  {
   "cell_type": "code",
   "execution_count": 39,
   "id": "adc07612",
   "metadata": {},
   "outputs": [
    {
     "name": "stdout",
     "output_type": "stream",
     "text": [
      "Simple Linear Regression r-square on training = 0.9100015964240102\n",
      "Quadratic Linear Regression r-square on training = 0.9816421639597427\n"
     ]
    }
   ],
   "source": [
    "print('Simple Linear Regression r-square on training =',regressor.score(x_train,y_train))\n",
    "print('Quadratic Linear Regression r-square on training =',regre_qua.score(x_trainqua,y_train))"
   ]
  },
  {
   "cell_type": "code",
   "execution_count": 38,
   "id": "d226a96f",
   "metadata": {},
   "outputs": [
    {
     "name": "stdout",
     "output_type": "stream",
     "text": [
      "Simple Linear Regression r-square on test = 0.809726797707665\n",
      "Quadratic Linear Regression r-square on test = 0.8675443656345073\n"
     ]
    }
   ],
   "source": [
    "print('Simple Linear Regression r-square on test =',regressor.score(x_test,y_test))\n",
    "print('Quadratic Linear Regression r-square on test =',regre_qua.score(xtestqua,y_test))"
   ]
  },
  {
   "cell_type": "code",
   "execution_count": null,
   "id": "7eab0121",
   "metadata": {},
   "outputs": [],
   "source": []
  }
 ],
 "metadata": {
  "kernelspec": {
   "display_name": "Python 3 (ipykernel)",
   "language": "python",
   "name": "python3"
  },
  "language_info": {
   "codemirror_mode": {
    "name": "ipython",
    "version": 3
   },
   "file_extension": ".py",
   "mimetype": "text/x-python",
   "name": "python",
   "nbconvert_exporter": "python",
   "pygments_lexer": "ipython3",
   "version": "3.9.13"
  }
 },
 "nbformat": 4,
 "nbformat_minor": 5
}
