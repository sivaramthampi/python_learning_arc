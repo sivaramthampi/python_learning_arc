{
 "cells": [
  {
   "cell_type": "code",
   "execution_count": 3,
   "id": "037f8f65",
   "metadata": {},
   "outputs": [],
   "source": [
    "import numpy as np"
   ]
  },
  {
   "cell_type": "code",
   "execution_count": 4,
   "id": "27c0c15a",
   "metadata": {},
   "outputs": [],
   "source": [
    "data=np.array([1,2,3,4,5,6,2,2,3,2,2])"
   ]
  },
  {
   "cell_type": "code",
   "execution_count": 5,
   "id": "8df87f4c",
   "metadata": {},
   "outputs": [
    {
     "name": "stdout",
     "output_type": "stream",
     "text": [
      "[1 2 3 4 5 6 2 2 3 2 2]\n"
     ]
    }
   ],
   "source": [
    "print(data)"
   ]
  },
  {
   "cell_type": "code",
   "execution_count": 6,
   "id": "5a4f8183",
   "metadata": {},
   "outputs": [
    {
     "name": "stdout",
     "output_type": "stream",
     "text": [
      "2.909090909090909\n"
     ]
    }
   ],
   "source": [
    "mean=np.mean(data)\n",
    "print(mean)"
   ]
  },
  {
   "cell_type": "code",
   "execution_count": 7,
   "id": "f9aa7446",
   "metadata": {},
   "outputs": [
    {
     "name": "stdout",
     "output_type": "stream",
     "text": [
      "2.0\n"
     ]
    }
   ],
   "source": [
    "median=np.median(data)\n",
    "print(median)"
   ]
  },
  {
   "cell_type": "code",
   "execution_count": 31,
   "id": "53cd4eee",
   "metadata": {},
   "outputs": [
    {
     "name": "stdout",
     "output_type": "stream",
     "text": [
      "ModeResult(mode=array([2]), count=array([5]))\n"
     ]
    }
   ],
   "source": [
    "import warnings\n",
    "warnings.filterwarnings('ignore')  ### to ignore the warnings\n",
    "from scipy import stats\n",
    "mode=stats.mode(data)\n",
    "print(mode)"
   ]
  },
  {
   "cell_type": "code",
   "execution_count": 13,
   "id": "82a7661f",
   "metadata": {},
   "outputs": [
    {
     "name": "stdout",
     "output_type": "stream",
     "text": [
      "[[2]\n",
      " [3]]\n"
     ]
    }
   ],
   "source": [
    "a=np.array(([2],[3]))\n",
    "print(a)"
   ]
  },
  {
   "cell_type": "code",
   "execution_count": 15,
   "id": "76aeb0a6",
   "metadata": {},
   "outputs": [
    {
     "name": "stdout",
     "output_type": "stream",
     "text": [
      "2\n",
      "3\n"
     ]
    }
   ],
   "source": [
    "print(a[0][0])\n",
    "print(a[1][0])"
   ]
  },
  {
   "cell_type": "code",
   "execution_count": 17,
   "id": "7c5ed10c",
   "metadata": {},
   "outputs": [],
   "source": [
    "from statistics import variance,stdev\n",
    "gpoints=np.array([34,56,78,95,45,34,23,45])\n",
    "dt_vari=variance(gpoints)"
   ]
  },
  {
   "cell_type": "code",
   "execution_count": 19,
   "id": "84a1f65b",
   "metadata": {},
   "outputs": [
    {
     "data": {
      "text/plain": [
       "589"
      ]
     },
     "execution_count": 19,
     "metadata": {},
     "output_type": "execute_result"
    }
   ],
   "source": [
    "dt_vari  #### if only one value we neednt mention print for printing "
   ]
  },
  {
   "cell_type": "code",
   "execution_count": 21,
   "id": "9361ee1b",
   "metadata": {},
   "outputs": [
    {
     "data": {
      "text/plain": [
       "100"
      ]
     },
     "execution_count": 21,
     "metadata": {},
     "output_type": "execute_result"
    }
   ],
   "source": [
    "a=100\n",
    "dt_vari  ## if there are multiple variables then only last variable will be displayed if print is not given\n",
    "#### if multiple variables are there use print function to print\n",
    "a"
   ]
  },
  {
   "cell_type": "code",
   "execution_count": 23,
   "id": "5f157e5c",
   "metadata": {},
   "outputs": [
    {
     "data": {
      "text/plain": [
       "24.269322199023193"
      ]
     },
     "execution_count": 23,
     "metadata": {},
     "output_type": "execute_result"
    }
   ],
   "source": [
    "st_std=stdev(gpoints)\n",
    "st_std"
   ]
  },
  {
   "cell_type": "code",
   "execution_count": 25,
   "id": "f2701387",
   "metadata": {},
   "outputs": [
    {
     "data": {
      "text/plain": [
       "95"
      ]
     },
     "execution_count": 25,
     "metadata": {},
     "output_type": "execute_result"
    }
   ],
   "source": [
    "dt_rng=np.max(gpoints)\n",
    "dt_rng"
   ]
  },
  {
   "cell_type": "code",
   "execution_count": 26,
   "id": "e66db83f",
   "metadata": {},
   "outputs": [
    {
     "name": "stdout",
     "output_type": "stream",
     "text": [
      "quantiles\n",
      "45.0\n"
     ]
    }
   ],
   "source": [
    "print('quantiles')\n",
    "print(np.percentile(gpoints,50))"
   ]
  },
  {
   "cell_type": "code",
   "execution_count": 32,
   "id": "47f70dce",
   "metadata": {},
   "outputs": [
    {
     "name": "stdout",
     "output_type": "stream",
     "text": [
      "61.5\n",
      "34.0\n",
      "inter quantile =  27.5\n"
     ]
    }
   ],
   "source": [
    "q75,q25=np.percentile(gpoints,[75,25])\n",
    "print(q75)\n",
    "print(q25)\n",
    "print(\"inter quantile = \",q75-q25)\n"
   ]
  },
  {
   "cell_type": "code",
   "execution_count": null,
   "id": "416aba1e",
   "metadata": {},
   "outputs": [],
   "source": []
  }
 ],
 "metadata": {
  "kernelspec": {
   "display_name": "Python 3 (ipykernel)",
   "language": "python",
   "name": "python3"
  },
  "language_info": {
   "codemirror_mode": {
    "name": "ipython",
    "version": 3
   },
   "file_extension": ".py",
   "mimetype": "text/x-python",
   "name": "python",
   "nbconvert_exporter": "python",
   "pygments_lexer": "ipython3",
   "version": "3.9.13"
  }
 },
 "nbformat": 4,
 "nbformat_minor": 5
}
