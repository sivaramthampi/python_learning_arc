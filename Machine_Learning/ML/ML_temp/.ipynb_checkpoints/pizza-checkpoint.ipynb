{
 "cells": [
  {
   "cell_type": "code",
   "execution_count": 48,
   "id": "f908e7cf",
   "metadata": {},
   "outputs": [],
   "source": [
    "##x contains diameter of pizza\n",
    "### x should be always 2D for passing to a model\n",
    "x=[[6],[8],[10],[14],[18]]\n",
    "y=[[7],[9],[13],[17.5],[18]]"
   ]
  },
  {
   "cell_type": "code",
   "execution_count": 49,
   "id": "9e7f3b49",
   "metadata": {},
   "outputs": [
    {
     "name": "stdout",
     "output_type": "stream",
     "text": [
      "[[6], [8], [10], [14], [18]]\n",
      "[[7], [9], [13], [17.5], [18]]\n"
     ]
    }
   ],
   "source": [
    "print(x)\n",
    "print(y)"
   ]
  },
  {
   "cell_type": "code",
   "execution_count": 50,
   "id": "29cbaef6",
   "metadata": {},
   "outputs": [
    {
     "data": {
      "image/png": "[encoded data removed]",
      "text/plain": [
       "<Figure size 640x480 with 1 Axes>"
      ]
     },
     "metadata": {},
     "output_type": "display_data"
    }
   ],
   "source": [
    "import matplotlib.pyplot as plt\n",
    "plt.figure()\n",
    "plt.title('Pizza Price vs Diameter')\n",
    "plt.plot(x,y,'r')\n",
    "plt.xlabel('diameter')\n",
    "plt.ylabel('price')\n",
    "plt.grid()\n",
    "plt.show()"
   ]
  },
  {
   "cell_type": "code",
   "execution_count": 51,
   "id": "d748ce7a",
   "metadata": {},
   "outputs": [],
   "source": [
    "from sklearn.linear_model import LinearRegression ##Linear regression is a class"
   ]
  },
  {
   "cell_type": "code",
   "execution_count": 52,
   "id": "4bb40c91",
   "metadata": {},
   "outputs": [
    {
     "data": {
      "text/plain": [
       "LinearRegression()"
      ]
     },
     "execution_count": 52,
     "metadata": {},
     "output_type": "execute_result"
    }
   ],
   "source": [
    "model=LinearRegression()  ## model is an object\n",
    "model.fit(x,y) ## .fit for training"
   ]
  },
  {
   "cell_type": "code",
   "execution_count": 53,
   "id": "03ec8f21",
   "metadata": {},
   "outputs": [
    {
     "data": {
      "text/plain": [
       "LinearRegression()"
      ]
     },
     "execution_count": 53,
     "metadata": {},
     "output_type": "execute_result"
    }
   ],
   "source": [
    "LinearRegression()"
   ]
  },
  {
   "cell_type": "code",
   "execution_count": 54,
   "id": "98efefae",
   "metadata": {},
   "outputs": [
    {
     "name": "stdout",
     "output_type": "stream",
     "text": [
      "[[15.63362069]]\n"
     ]
    }
   ],
   "source": [
    "print(model.predict([[14]]))  ## for predicting "
   ]
  },
  {
   "cell_type": "code",
   "execution_count": 55,
   "id": "851cacee",
   "metadata": {},
   "outputs": [
    {
     "name": "stdout",
     "output_type": "stream",
     "text": [
      "20\n",
      "1\n",
      "(20,)\n",
      "[[ 0.        ]\n",
      " [ 1.31578947]\n",
      " [ 2.63157895]\n",
      " [ 3.94736842]\n",
      " [ 5.26315789]\n",
      " [ 6.57894737]\n",
      " [ 7.89473684]\n",
      " [ 9.21052632]\n",
      " [10.52631579]\n",
      " [11.84210526]\n",
      " [13.15789474]\n",
      " [14.47368421]\n",
      " [15.78947368]\n",
      " [17.10526316]\n",
      " [18.42105263]\n",
      " [19.73684211]\n",
      " [21.05263158]\n",
      " [22.36842105]\n",
      " [23.68421053]\n",
      " [25.        ]]\n"
     ]
    }
   ],
   "source": [
    "import numpy as np\n",
    "# val=np.linspace(0,25)#default 50 values between 0 and 25\n",
    "# print(len(val))\n",
    "val=np.linspace(0,25,20)#default 20 values between 0 and 25\n",
    "print(len(val))\n",
    "print(val.ndim)#to get dimension\n",
    "print(val.shape)# to get no. of data in our 1D val\n",
    "val=val.reshape(20,1)# to change 1D to 2D.; if trained in 2D , testing should also be on 2D\n",
    "print(val)\n"
   ]
  },
  {
   "cell_type": "code",
   "execution_count": 56,
   "id": "07cc2f1f",
   "metadata": {},
   "outputs": [
    {
     "name": "stdout",
     "output_type": "stream",
     "text": [
      "[[ 1.96551724]\n",
      " [ 3.25011343]\n",
      " [ 4.53470962]\n",
      " [ 5.81930581]\n",
      " [ 7.103902  ]\n",
      " [ 8.38849819]\n",
      " [ 9.67309437]\n",
      " [10.95769056]\n",
      " [12.24228675]\n",
      " [13.52688294]\n",
      " [14.81147913]\n",
      " [16.09607532]\n",
      " [17.38067151]\n",
      " [18.6652677 ]\n",
      " [19.94986388]\n",
      " [21.23446007]\n",
      " [22.51905626]\n",
      " [23.80365245]\n",
      " [25.08824864]\n",
      " [26.37284483]]\n"
     ]
    }
   ],
   "source": [
    "print(model.predict(val))\n"
   ]
  },
  {
   "cell_type": "code",
   "execution_count": 57,
   "id": "17ddb458",
   "metadata": {},
   "outputs": [
    {
     "name": "stdout",
     "output_type": "stream",
     "text": [
      "[[0.9762931]]\n"
     ]
    }
   ],
   "source": [
    "print(model.coef_)  # slope m of mx+c"
   ]
  },
  {
   "cell_type": "code",
   "execution_count": 58,
   "id": "72b07b20",
   "metadata": {},
   "outputs": [
    {
     "name": "stdout",
     "output_type": "stream",
     "text": [
      "[1.96551724]\n"
     ]
    }
   ],
   "source": [
    "print(model.intercept_)  # c"
   ]
  },
  {
   "cell_type": "code",
   "execution_count": 59,
   "id": "29cbf2ed",
   "metadata": {},
   "outputs": [
    {
     "data": {
      "text/plain": [
       "1.96551724"
      ]
     },
     "execution_count": 59,
     "metadata": {},
     "output_type": "execute_result"
    }
   ],
   "source": [
    "first=(0.9762931 * 0) + 1.96551724 ## y=mx+c\n",
    "first"
   ]
  },
  {
   "cell_type": "code",
   "execution_count": 60,
   "id": "7879d4e2",
   "metadata": {},
   "outputs": [
    {
     "name": "stdout",
     "output_type": "stream",
     "text": [
      "Residual error -->  8.747844827586203\n"
     ]
    }
   ],
   "source": [
    "print(\"Residual error --> \",np.sum((model.predict(x) - y) ** 2))"
   ]
  },
  {
   "cell_type": "code",
   "execution_count": 61,
   "id": "f5d650d2",
   "metadata": {},
   "outputs": [
    {
     "name": "stdout",
     "output_type": "stream",
     "text": [
      "MSE(Mean Squared Error) =  1.7495689655172406\n"
     ]
    }
   ],
   "source": [
    "print(\"MSE(Mean Squared Error) = \",np.mean((model.predict(x) - y) ** 2))"
   ]
  },
  {
   "cell_type": "code",
   "execution_count": 62,
   "id": "b811fae1",
   "metadata": {},
   "outputs": [
    {
     "data": {
      "text/plain": [
       "array([[ 7.82327586],\n",
       "       [ 9.77586207],\n",
       "       [11.72844828],\n",
       "       [15.63362069],\n",
       "       [19.5387931 ]])"
      ]
     },
     "execution_count": 62,
     "metadata": {},
     "output_type": "execute_result"
    }
   ],
   "source": [
    "model.predict(x)"
   ]
  },
  {
   "cell_type": "code",
   "execution_count": 63,
   "id": "f6e27b6e",
   "metadata": {},
   "outputs": [
    {
     "data": {
      "text/plain": [
       "23.2"
      ]
     },
     "execution_count": 63,
     "metadata": {},
     "output_type": "execute_result"
    }
   ],
   "source": [
    "v=np.var(x,ddof=1)#ddof is bessels correction\n",
    "v"
   ]
  },
  {
   "cell_type": "code",
   "execution_count": 64,
   "id": "9661a927",
   "metadata": {},
   "outputs": [
    {
     "data": {
      "text/plain": [
       "array([[23.2 , 22.65],\n",
       "       [22.65, 24.3 ]])"
      ]
     },
     "execution_count": 64,
     "metadata": {},
     "output_type": "execute_result"
    }
   ],
   "source": [
    "c=np.cov([6,8,10,14,18],[7,9,13,17.5,18])\n",
    "c"
   ]
  },
  {
   "cell_type": "code",
   "execution_count": 65,
   "id": "125a3d6d",
   "metadata": {},
   "outputs": [
    {
     "data": {
      "text/plain": [
       "0.976293103448276"
      ]
     },
     "execution_count": 65,
     "metadata": {},
     "output_type": "execute_result"
    }
   ],
   "source": [
    "slope=c[0][1]/v\n",
    "slope"
   ]
  },
  {
   "cell_type": "code",
   "execution_count": 66,
   "id": "ab25cfdd",
   "metadata": {},
   "outputs": [],
   "source": [
    "x_test=[[9],[11],[16],[12]]\n",
    "y_test=[[8.5],[15],[18],[11]]"
   ]
  },
  {
   "cell_type": "code",
   "execution_count": 67,
   "id": "bcc817a3",
   "metadata": {},
   "outputs": [
    {
     "data": {
      "text/plain": [
       "13.125"
      ]
     },
     "execution_count": 67,
     "metadata": {},
     "output_type": "execute_result"
    }
   ],
   "source": [
    "y_bar=np.mean(y_test)\n",
    "y_bar"
   ]
  },
  {
   "cell_type": "code",
   "execution_count": 68,
   "id": "792511c2",
   "metadata": {},
   "outputs": [
    {
     "data": {
      "text/plain": [
       "53.1875"
      ]
     },
     "execution_count": 68,
     "metadata": {},
     "output_type": "execute_result"
    }
   ],
   "source": [
    "ss_tot=np.sum((y_test-y_bar)**2)\n",
    "ss_tot"
   ]
  },
  {
   "cell_type": "code",
   "execution_count": 69,
   "id": "e03d858e",
   "metadata": {},
   "outputs": [
    {
     "data": {
      "text/plain": [
       "17.699585686682525"
      ]
     },
     "execution_count": 69,
     "metadata": {},
     "output_type": "execute_result"
    }
   ],
   "source": [
    "ssres=np.sum((y_test-model.predict(x_test))**2)\n",
    "ssres"
   ]
  },
  {
   "cell_type": "code",
   "execution_count": 70,
   "id": "f712e712",
   "metadata": {},
   "outputs": [
    {
     "data": {
      "text/plain": [
       "0.6672228308026787"
      ]
     },
     "execution_count": 70,
     "metadata": {},
     "output_type": "execute_result"
    }
   ],
   "source": [
    "r2square=(ss_tot-ssres)/ss_tot\n",
    "r2square"
   ]
  },
  {
   "cell_type": "code",
   "execution_count": 71,
   "id": "4f79681d",
   "metadata": {},
   "outputs": [
    {
     "name": "stdout",
     "output_type": "stream",
     "text": [
      "0.6672228308026787\n"
     ]
    }
   ],
   "source": [
    "print(model.score(x_test,y_test))"
   ]
  },
  {
   "cell_type": "code",
   "execution_count": 72,
   "id": "52b68af4",
   "metadata": {},
   "outputs": [
    {
     "name": "stdout",
     "output_type": "stream",
     "text": [
      "0.9100015964240102\n"
     ]
    }
   ],
   "source": [
    "print(model.score(x,y))"
   ]
  },
  {
   "cell_type": "code",
   "execution_count": 74,
   "id": "9faaea7c",
   "metadata": {},
   "outputs": [
    {
     "data": {
      "text/plain": [
       "[[6, 2], [8, 1], [10, 0], [14, 2], [18, 0]]"
      ]
     },
     "execution_count": 74,
     "metadata": {},
     "output_type": "execute_result"
    }
   ],
   "source": [
    "x=[[6,2],[8,1],[10,0],[14,2],[18,0]]\n",
    "y=[[7],[9],[13],[17.5],[18]]\n",
    "x"
   ]
  },
  {
   "cell_type": "code",
   "execution_count": 75,
   "id": "482cf08d",
   "metadata": {},
   "outputs": [
    {
     "data": {
      "text/plain": [
       "LinearRegression()"
      ]
     },
     "execution_count": 75,
     "metadata": {},
     "output_type": "execute_result"
    }
   ],
   "source": [
    "model.fit(x,y)"
   ]
  },
  {
   "cell_type": "code",
   "execution_count": 76,
   "id": "29578de2",
   "metadata": {},
   "outputs": [],
   "source": [
    "x_test=[[9,0],[11,1],[16,2],[12,0]]\n",
    "y_test=[[8.5],[15],[18],[11]]"
   ]
  },
  {
   "cell_type": "code",
   "execution_count": 78,
   "id": "f0d48f05",
   "metadata": {},
   "outputs": [
    {
     "data": {
      "text/plain": [
       "array([[10.28125   ],\n",
       "       [12.69791667],\n",
       "       [18.14583333],\n",
       "       [13.3125    ]])"
      ]
     },
     "execution_count": 78,
     "metadata": {},
     "output_type": "execute_result"
    }
   ],
   "source": [
    "predictions=model.predict(x_test)\n",
    "predictions"
   ]
  },
  {
   "cell_type": "code",
   "execution_count": 82,
   "id": "85c74bfc",
   "metadata": {},
   "outputs": [
    {
     "name": "stdout",
     "output_type": "stream",
     "text": [
      "0\n",
      "[10.28125]\n",
      "predictions:  10.28125  actual value  8.5\n",
      "1\n",
      "[12.69791667]\n",
      "predictions:  12.697916666666668  actual value  15\n",
      "2\n",
      "[18.14583333]\n",
      "predictions:  18.145833333333336  actual value  18\n",
      "3\n",
      "[13.3125]\n",
      "predictions:  13.3125  actual value  11\n"
     ]
    }
   ],
   "source": [
    "for i,prediction in enumerate(predictions): # enumerate is similar to for loop but with 2 variables\n",
    "    print(i)\n",
    "    print(prediction)\n",
    "    print(\"predictions: \",prediction[0],\" actual value \",y_test[i][0])"
   ]
  },
  {
   "cell_type": "code",
   "execution_count": 83,
   "id": "3c6d68b6",
   "metadata": {},
   "outputs": [
    {
     "name": "stdout",
     "output_type": "stream",
     "text": [
      "0.7397628606867739\n"
     ]
    }
   ],
   "source": [
    "print(model.score(x_test,y_test))"
   ]
  },
  {
   "cell_type": "code",
   "execution_count": 84,
   "id": "f7f7783a",
   "metadata": {},
   "outputs": [
    {
     "data": {
      "text/plain": [
       "array([[1.01041667, 0.39583333]])"
      ]
     },
     "execution_count": 84,
     "metadata": {},
     "output_type": "execute_result"
    }
   ],
   "source": [
    "model.coef_"
   ]
  },
  {
   "cell_type": "code",
   "execution_count": 85,
   "id": "978f0874",
   "metadata": {},
   "outputs": [
    {
     "data": {
      "text/plain": [
       "array([1.1875])"
      ]
     },
     "execution_count": 85,
     "metadata": {},
     "output_type": "execute_result"
    }
   ],
   "source": [
    "model.intercept_"
   ]
  },
  {
   "cell_type": "code",
   "execution_count": 89,
   "id": "4bf23a6a",
   "metadata": {},
   "outputs": [
    {
     "data": {
      "text/plain": [
       "array([[10.28125]])"
      ]
     },
     "execution_count": 89,
     "metadata": {},
     "output_type": "execute_result"
    }
   ],
   "source": [
    "model.predict([[9,0]])"
   ]
  },
  {
   "cell_type": "code",
   "execution_count": 97,
   "id": "51afad12",
   "metadata": {},
   "outputs": [
    {
     "data": {
      "text/plain": [
       "10.281115003"
      ]
     },
     "execution_count": 97,
     "metadata": {},
     "output_type": "execute_result"
    }
   ],
   "source": [
    "f = (1.010401667*9)+1.1875\n",
    "f"
   ]
  },
  {
   "cell_type": "code",
   "execution_count": null,
   "id": "7835723c",
   "metadata": {},
   "outputs": [],
   "source": []
  }
 ],
 "metadata": {
  "kernelspec": {
   "display_name": "Python 3 (ipykernel)",
   "language": "python",
   "name": "python3"
  },
  "language_info": {
   "codemirror_mode": {
    "name": "ipython",
    "version": 3
   },
   "file_extension": ".py",
   "mimetype": "text/x-python",
   "name": "python",
   "nbconvert_exporter": "python",
   "pygments_lexer": "ipython3",
   "version": "3.9.13"
  }
 },
 "nbformat": 4,
 "nbformat_minor": 5
}
