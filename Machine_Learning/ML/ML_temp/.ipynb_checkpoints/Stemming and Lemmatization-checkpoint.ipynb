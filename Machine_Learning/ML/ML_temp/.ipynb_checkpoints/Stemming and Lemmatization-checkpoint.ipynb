{
 "cells": [
  {
   "cell_type": "code",
   "execution_count": 29,
   "id": "5f52ddd6",
   "metadata": {},
   "outputs": [
    {
     "name": "stdout",
     "output_type": "stream",
     "text": [
      "gather\n",
      "gathering\n"
     ]
    }
   ],
   "source": [
    "from nltk.stem.wordnet import WordNetLemmatizer\n",
    "lemmatizer = WordNetLemmatizer()\n",
    "print(lemmatizer.lemmatize('gathering','v')) # Verb\n",
    "print(lemmatizer.lemmatize('gathering','n')) # Noun"
   ]
  },
  {
   "cell_type": "code",
   "execution_count": 30,
   "id": "99e17b87",
   "metadata": {},
   "outputs": [
    {
     "name": "stdout",
     "output_type": "stream",
     "text": [
      "run\n",
      "rock\n"
     ]
    }
   ],
   "source": [
    "print(lemmatizer.lemmatize('running','v')) # Verb\n",
    "print(lemmatizer.lemmatize('rocks','n')) # Noun"
   ]
  },
  {
   "cell_type": "code",
   "execution_count": 31,
   "id": "6f27113a",
   "metadata": {},
   "outputs": [
    {
     "name": "stdout",
     "output_type": "stream",
     "text": [
      "better\n",
      "greater\n",
      "greatest\n"
     ]
    }
   ],
   "source": [
    "print(lemmatizer.lemmatize('better',pos='v'))\n",
    "print(lemmatizer.lemmatize('greater',pos='v'))\n",
    "print(lemmatizer.lemmatize('greatest',pos='n'))"
   ]
  },
  {
   "cell_type": "code",
   "execution_count": 32,
   "id": "d17f7bc1",
   "metadata": {},
   "outputs": [
    {
     "name": "stdout",
     "output_type": "stream",
     "text": [
      "run\n",
      "run\n",
      "run\n"
     ]
    }
   ],
   "source": [
    "print(lemmatizer.lemmatize('run',pos='v'))\n",
    "print(lemmatizer.lemmatize('ran',pos='v'))\n",
    "print(lemmatizer.lemmatize('running',pos='v'))"
   ]
  },
  {
   "cell_type": "code",
   "execution_count": 33,
   "id": "5e9049c5",
   "metadata": {},
   "outputs": [],
   "source": [
    "from nltk import word_tokenize\n",
    "from nltk.stem import PorterStemmer\n",
    "from nltk.stem.wordnet import WordNetLemmatizer\n",
    "from nltk import pos_tag"
   ]
  },
  {
   "cell_type": "code",
   "execution_count": 37,
   "id": "0b07fcbb",
   "metadata": {},
   "outputs": [
    {
     "name": "stdout",
     "output_type": "stream",
     "text": [
      "[['i', 'am', 'gather', 'ingredi', 'for', 'the', 'sandwich'], ['there', 'were', 'mani', 'wizard', 'at', 'the', 'gather']]\n"
     ]
    }
   ],
   "source": [
    "corpus = [\n",
    "    'I am gathering ingredients for the sandwich',\n",
    "    'There were many wizards at the gathering'\n",
    "]\n",
    "\n",
    "m = []\n",
    "stemmer = PorterStemmer()\n",
    "for document in corpus:\n",
    "    l = []\n",
    "    for token in word_tokenize(document):\n",
    "#         print(stemmer.stem(token))\n",
    "        l.append(stemmer.stem(token))\n",
    "    m.append(l)\n",
    "print(m)"
   ]
  },
  {
   "cell_type": "code",
   "execution_count": 38,
   "id": "85641554",
   "metadata": {},
   "outputs": [
    {
     "data": {
      "text/plain": [
       "[['i', 'am', 'gather', 'ingredi', 'for', 'the', 'sandwich'],\n",
       " ['there', 'were', 'mani', 'wizard', 'at', 'the', 'gather']]"
      ]
     },
     "execution_count": 38,
     "metadata": {},
     "output_type": "execute_result"
    }
   ],
   "source": [
    "[[stemmer.stem(token) for token in word_tokenize(document)] for document in corpus]"
   ]
  },
  {
   "cell_type": "markdown",
   "id": "05c961c6",
   "metadata": {},
   "source": [
    "Lemmatization"
   ]
  },
  {
   "cell_type": "code",
   "execution_count": 39,
   "id": "cd4ce49e",
   "metadata": {},
   "outputs": [
    {
     "name": "stdout",
     "output_type": "stream",
     "text": [
      "[[('I', 'PRP'), ('am', 'VBP'), ('gathering', 'VBG'), ('ingredients', 'NNS'), ('for', 'IN'), ('the', 'DT'), ('sandwich', 'NN')], [('There', 'EX'), ('were', 'VBD'), ('many', 'JJ'), ('wizards', 'NNS'), ('at', 'IN'), ('the', 'DT'), ('gathering', 'NN')]]\n"
     ]
    }
   ],
   "source": [
    "tagged_corpus = [pos_tag(word_tokenize(document)) for document in corpus]\n",
    "print(tagged_corpus)"
   ]
  },
  {
   "cell_type": "code",
   "execution_count": 42,
   "id": "384c00d0",
   "metadata": {},
   "outputs": [
    {
     "name": "stdout",
     "output_type": "stream",
     "text": [
      "V,V,N,N,V,N,N,"
     ]
    },
    {
     "data": {
      "text/plain": [
       "[['I', 'be', 'gather', 'ingredient', 'for', 'the', 'sandwich'],\n",
       " ['There', 'be', 'many', 'wizard', 'at', 'the', 'gathering']]"
      ]
     },
     "execution_count": 42,
     "metadata": {},
     "output_type": "execute_result"
    }
   ],
   "source": [
    "word_net=['n','v']\n",
    "m=[]\n",
    "def lemmatise(token,tag):\n",
    "    lemmatiser=WordNetLemmatizer()\n",
    "    if tag[0].lower() in word_net:\n",
    "        print(tag[0],end=',')\n",
    "        return lemmatiser.lemmatize(token,tag[0].lower())\n",
    "    return token\n",
    "for document in tagged_corpus:\n",
    "    k=[]\n",
    "    for token,tag in document:\n",
    "        k.append(lemmatise(token,tag))\n",
    "    m.append(k)\n",
    "m"
   ]
  },
  {
   "cell_type": "code",
   "execution_count": 46,
   "id": "ae77f96a",
   "metadata": {},
   "outputs": [
    {
     "ename": "SyntaxError",
     "evalue": "invalid syntax (3034969511.py, line 2)",
     "output_type": "error",
     "traceback": [
      "\u001b[1;36m  File \u001b[1;32m\"C:\\Users\\ADMIN\\AppData\\Local\\Temp\\ipykernel_7280\\3034969511.py\"\u001b[1;36m, line \u001b[1;32m2\u001b[0m\n\u001b[1;33m    [[lemmatiser.lemmatize(token,tag[0].lower()) if tag[0] in word_net  for i,j in document ] for document in tagged_corpus]\u001b[0m\n\u001b[1;37m                                                                        ^\u001b[0m\n\u001b[1;31mSyntaxError\u001b[0m\u001b[1;31m:\u001b[0m invalid syntax\n"
     ]
    }
   ],
   "source": [
    "lemmatiser=WordNetLemmatizer()\n",
    "[[lemmatiser.lemmatize(token,tag[0].lower())  for i,j in document  if tag[0] in word_net] for document in tagged_corpus]"
   ]
  },
  {
   "cell_type": "markdown",
   "id": "2a2f3cf2",
   "metadata": {},
   "source": [
    "# "
   ]
  }
 ],
 "metadata": {
  "kernelspec": {
   "display_name": "Python 3 (ipykernel)",
   "language": "python",
   "name": "python3"
  },
  "language_info": {
   "codemirror_mode": {
    "name": "ipython",
    "version": 3
   },
   "file_extension": ".py",
   "mimetype": "text/x-python",
   "name": "python",
   "nbconvert_exporter": "python",
   "pygments_lexer": "ipython3",
   "version": "3.9.13"
  }
 },
 "nbformat": 4,
 "nbformat_minor": 5
}
