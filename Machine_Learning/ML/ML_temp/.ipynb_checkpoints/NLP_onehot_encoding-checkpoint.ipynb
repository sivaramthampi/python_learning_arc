{
 "cells": [
  {
   "cell_type": "code",
   "execution_count": 15,
   "id": "5435807a",
   "metadata": {},
   "outputs": [],
   "source": [
    "from sklearn.feature_extraction import DictVectorizer\n",
    "onehot_encoder = DictVectorizer()"
   ]
  },
  {
   "cell_type": "code",
   "execution_count": 22,
   "id": "d7dcbe7e",
   "metadata": {},
   "outputs": [
    {
     "data": {
      "text/plain": [
       "[{'city': 'newyork'},\n",
       " {'city': 'sanfransisco'},\n",
       " {'city': 'chappelhill'},\n",
       " {'city': 'newyork'},\n",
       " {'city': 'paderborne'}]"
      ]
     },
     "execution_count": 22,
     "metadata": {},
     "output_type": "execute_result"
    }
   ],
   "source": [
    "instances = [{'city':'newyork'},{'city':'sanfransisco'},{'city':'chappelhill'},{'city':'newyork'},{'city':'paderborne'}]\n",
    "instances"
   ]
  },
  {
   "cell_type": "code",
   "execution_count": 23,
   "id": "8ddd87e5",
   "metadata": {},
   "outputs": [
    {
     "name": "stdout",
     "output_type": "stream",
     "text": [
      "  (0, 1)\t1.0\n",
      "  (1, 3)\t1.0\n",
      "  (2, 0)\t1.0\n",
      "  (3, 1)\t1.0\n",
      "  (4, 2)\t1.0\n"
     ]
    }
   ],
   "source": [
    "print(onehot_encoder.fit_transform(instances))"
   ]
  },
  {
   "cell_type": "code",
   "execution_count": 24,
   "id": "513136b5",
   "metadata": {},
   "outputs": [
    {
     "name": "stdout",
     "output_type": "stream",
     "text": [
      "[[0. 1. 0. 0.]\n",
      " [0. 0. 0. 1.]\n",
      " [1. 0. 0. 0.]\n",
      " [0. 1. 0. 0.]\n",
      " [0. 0. 1. 0.]]\n"
     ]
    }
   ],
   "source": [
    "print(onehot_encoder.fit_transform(instances).toarray())"
   ]
  },
  {
   "cell_type": "code",
   "execution_count": 25,
   "id": "1c960367",
   "metadata": {},
   "outputs": [
    {
     "data": {
      "text/plain": [
       "['city=chappelhill', 'city=newyork', 'city=paderborne', 'city=sanfransisco']"
      ]
     },
     "execution_count": 25,
     "metadata": {},
     "output_type": "execute_result"
    }
   ],
   "source": [
    "onehot_encoder.feature_names_"
   ]
  },
  {
   "cell_type": "code",
   "execution_count": 26,
   "id": "66b6f119",
   "metadata": {},
   "outputs": [
    {
     "data": {
      "text/plain": [
       "{'city=newyork': 1,\n",
       " 'city=sanfransisco': 3,\n",
       " 'city=chappelhill': 0,\n",
       " 'city=paderborne': 2}"
      ]
     },
     "execution_count": 26,
     "metadata": {},
     "output_type": "execute_result"
    }
   ],
   "source": [
    "onehot_encoder.vocabulary_"
   ]
  },
  {
   "cell_type": "code",
   "execution_count": null,
   "id": "35438876",
   "metadata": {},
   "outputs": [],
   "source": []
  }
 ],
 "metadata": {
  "kernelspec": {
   "display_name": "Python 3 (ipykernel)",
   "language": "python",
   "name": "python3"
  },
  "language_info": {
   "codemirror_mode": {
    "name": "ipython",
    "version": 3
   },
   "file_extension": ".py",
   "mimetype": "text/x-python",
   "name": "python",
   "nbconvert_exporter": "python",
   "pygments_lexer": "ipython3",
   "version": "3.9.13"
  }
 },
 "nbformat": 4,
 "nbformat_minor": 5
}
