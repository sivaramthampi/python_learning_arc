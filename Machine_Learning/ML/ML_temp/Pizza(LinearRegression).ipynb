{
 "cells": [
  {
   "cell_type": "code",
   "execution_count": 3,
   "id": "f908e7cf",
   "metadata": {},
   "outputs": [],
   "source": [
    "# Features \n",
    "x = [[6],[8],[10],[14],[18]] \n",
    "y = [[7],[9],[13],[17.5],[18]] "
   ]
  },
  {
   "cell_type": "code",
   "execution_count": 4,
   "id": "9e7f3b49",
   "metadata": {},
   "outputs": [
    {
     "name": "stdout",
     "output_type": "stream",
     "text": [
      "[[6], [8], [10], [14], [18]]\n",
      "[[7], [9], [13], [17.5], [18]]\n"
     ]
    }
   ],
   "source": [
    "print(x)\n",
    "print(y)"
   ]
  },
  {
   "cell_type": "code",
   "execution_count": 5,
   "id": "29cbaef6",
   "metadata": {},
   "outputs": [
    {
     "data": {
      "image/png": "[encoded data removed]",
      "text/plain": [
       "<Figure size 640x480 with 1 Axes>"
      ]
     },
     "metadata": {},
     "output_type": "display_data"
    }
   ],
   "source": [
    "import matplotlib.pyplot as plt\n",
    "plt.figure()\n",
    "plt.title('Pizza Price vs Diameter')\n",
    "plt.plot(x,y,'r')\n",
    "plt.xlabel('Diameter')\n",
    "plt.ylabel('Price')\n",
    "plt.grid()\n",
    "plt.show()"
   ]
  },
  {
   "cell_type": "code",
   "execution_count": 6,
   "id": "d748ce7a",
   "metadata": {},
   "outputs": [],
   "source": [
    "from sklearn.linear_model import LinearRegression # Linear regression (Class)"
   ]
  },
  {
   "cell_type": "code",
   "execution_count": 10,
   "id": "4bb40c91",
   "metadata": {},
   "outputs": [
    {
     "data": {
      "text/plain": [
       "LinearRegression()"
      ]
     },
     "execution_count": 10,
     "metadata": {},
     "output_type": "execute_result"
    }
   ],
   "source": [
    "model=LinearRegression()  # model is an object\n",
    "model.fit(x,y) ## .fit for training"
   ]
  },
  {
   "cell_type": "code",
   "execution_count": 7,
   "id": "03ec8f21",
   "metadata": {},
   "outputs": [
    {
     "data": {
      "text/plain": [
       "LinearRegression()"
      ]
     },
     "execution_count": 7,
     "metadata": {},
     "output_type": "execute_result"
    }
   ],
   "source": [
    "LinearRegression()"
   ]
  },
  {
   "cell_type": "code",
   "execution_count": 21,
   "id": "98efefae",
   "metadata": {},
   "outputs": [
    {
     "name": "stdout",
     "output_type": "stream",
     "text": [
      "[[15.63362069]]\n"
     ]
    }
   ],
   "source": [
    "print(model.predict([[14]]))  ## for predicting "
   ]
  },
  {
   "cell_type": "code",
   "execution_count": 26,
   "id": "851cacee",
   "metadata": {
    "collapsed": true
   },
   "outputs": [
    {
     "name": "stdout",
     "output_type": "stream",
     "text": [
      "20\n",
      "1\n",
      "(20,)\n",
      "[[ 0.        ]\n",
      " [ 1.31578947]\n",
      " [ 2.63157895]\n",
      " [ 3.94736842]\n",
      " [ 5.26315789]\n",
      " [ 6.57894737]\n",
      " [ 7.89473684]\n",
      " [ 9.21052632]\n",
      " [10.52631579]\n",
      " [11.84210526]\n",
      " [13.15789474]\n",
      " [14.47368421]\n",
      " [15.78947368]\n",
      " [17.10526316]\n",
      " [18.42105263]\n",
      " [19.73684211]\n",
      " [21.05263158]\n",
      " [22.36842105]\n",
      " [23.68421053]\n",
      " [25.        ]]\n"
     ]
    }
   ],
   "source": [
    "import numpy as np\n",
    "# val=np.linspace(0,25)#default 50 values between 0 and 25\n",
    "# print(len(val))\n",
    "val=np.linspace(0,25,20)#default 20 values between 0 and 25\n",
    "print(len(val))\n",
    "print(val.ndim)#to get dimension\n",
    "print(val.shape)# to get no. of data in our 1D val\n",
    "val=val.reshape(20,1)# to change 1D to 2D.; if trained in 2D , testing should also be on 2D\n",
    "print(val)\n"
   ]
  },
  {
   "cell_type": "code",
   "execution_count": 49,
   "id": "07cc2f1f",
   "metadata": {
    "collapsed": true
   },
   "outputs": [
    {
     "name": "stdout",
     "output_type": "stream",
     "text": [
      "[[ 1.96551724]\n",
      " [ 3.25011343]\n",
      " [ 4.53470962]\n",
      " [ 5.81930581]\n",
      " [ 7.103902  ]\n",
      " [ 8.38849819]\n",
      " [ 9.67309437]\n",
      " [10.95769056]\n",
      " [12.24228675]\n",
      " [13.52688294]\n",
      " [14.81147913]\n",
      " [16.09607532]\n",
      " [17.38067151]\n",
      " [18.6652677 ]\n",
      " [19.94986388]\n",
      " [21.23446007]\n",
      " [22.51905626]\n",
      " [23.80365245]\n",
      " [25.08824864]\n",
      " [26.37284483]]\n"
     ]
    }
   ],
   "source": [
    "print(model.predict(val))\n"
   ]
  },
  {
   "cell_type": "code",
   "execution_count": 29,
   "id": "17ddb458",
   "metadata": {
    "collapsed": true
   },
   "outputs": [
    {
     "name": "stdout",
     "output_type": "stream",
     "text": [
      "[[0.9762931]]\n"
     ]
    }
   ],
   "source": [
    "print(model.coef_)  # slope m of mx+c"
   ]
  },
  {
   "cell_type": "code",
   "execution_count": 30,
   "id": "72b07b20",
   "metadata": {
    "collapsed": true
   },
   "outputs": [
    {
     "name": "stdout",
     "output_type": "stream",
     "text": [
      "[1.96551724]\n"
     ]
    }
   ],
   "source": [
    "print(model.intercept_)  # c"
   ]
  },
  {
   "cell_type": "code",
   "execution_count": 45,
   "id": "29cbf2ed",
   "metadata": {},
   "outputs": [],
   "source": [
    "first=(0.9762931 * 0) + 1.96551724 ## y=mx+c\n",
    "first"
   ]
  },
  {
   "cell_type": "code",
   "execution_count": 53,
   "id": "7879d4e2",
   "metadata": {},
   "outputs": [
    {
     "name": "stdout",
     "output_type": "stream",
     "text": [
      "Residual error -->  8.747844827586203\n"
     ]
    }
   ],
   "source": [
    "print(\"Residual error --> \",np.sum((model.predict(x) - y) ** 2))"
   ]
  },
  {
   "cell_type": "code",
   "execution_count": 59,
   "id": "f5d650d2",
   "metadata": {},
   "outputs": [
    {
     "name": "stdout",
     "output_type": "stream",
     "text": [
      "MSE(Mean Squared Error) =  1.7495689655172406\n"
     ]
    }
   ],
   "source": [
    "print(\"MSE(Mean Squared Error) = \",np.mean((model.predict(x) - y) ** 2))"
   ]
  }
 ],
 "metadata": {
  "kernelspec": {
   "display_name": "Python 3 (ipykernel)",
   "language": "python",
   "name": "python3"
  },
  "language_info": {
   "codemirror_mode": {
    "name": "ipython",
    "version": 3
   },
   "file_extension": ".py",
   "mimetype": "text/x-python",
   "name": "python",
   "nbconvert_exporter": "python",
   "pygments_lexer": "ipython3",
   "version": "3.9.13"
  }
 },
 "nbformat": 4,
 "nbformat_minor": 5
}
