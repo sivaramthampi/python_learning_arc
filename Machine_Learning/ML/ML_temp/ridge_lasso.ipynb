{
 "cells": [
  {
   "cell_type": "code",
   "execution_count": 5,
   "id": "ab47e62a",
   "metadata": {},
   "outputs": [
    {
     "name": "stdout",
     "output_type": "stream",
     "text": [
      "Populating the interactive namespace from numpy and matplotlib\n"
     ]
    }
   ],
   "source": [
    "%pylab inline"
   ]
  },
  {
   "cell_type": "code",
   "execution_count": 6,
   "id": "297c28b7",
   "metadata": {},
   "outputs": [
    {
     "name": "stdout",
     "output_type": "stream",
     "text": [
      "                   Species    BodyWt  BrainWt  NonDreaming  Dreaming  \\\n",
      "0          Africanelephant  6654.000   5712.0          NaN       NaN   \n",
      "1   Africangiantpouchedrat     1.000      6.6          6.3       2.0   \n",
      "2                ArcticFox     3.385     44.5          NaN       NaN   \n",
      "3     Arcticgroundsquirrel     0.920      5.7          NaN       NaN   \n",
      "4            Asianelephant  2547.000   4603.0          2.1       1.8   \n",
      "..                     ...       ...      ...          ...       ...   \n",
      "57               Treehyrax     2.000     12.3          4.9       0.5   \n",
      "58               Treeshrew     0.104      2.5         13.2       2.6   \n",
      "59                  Vervet     4.190     58.0          9.7       0.6   \n",
      "60            Wateropossum     3.500      3.9         12.8       6.6   \n",
      "61    Yellow-belliedmarmot     4.050     17.0          NaN       NaN   \n",
      "\n",
      "    TotalSleep  LifeSpan  Gestation  Predation  Exposure  Danger  \n",
      "0          3.3      38.6      645.0          3         5       3  \n",
      "1          8.3       4.5       42.0          3         1       3  \n",
      "2         12.5      14.0       60.0          1         1       1  \n",
      "3         16.5       NaN       25.0          5         2       3  \n",
      "4          3.9      69.0      624.0          3         5       4  \n",
      "..         ...       ...        ...        ...       ...     ...  \n",
      "57         5.4       7.5      200.0          3         1       3  \n",
      "58        15.8       2.3       46.0          3         2       2  \n",
      "59        10.3      24.0      210.0          4         3       4  \n",
      "60        19.4       3.0       14.0          2         1       1  \n",
      "61         NaN      13.0       38.0          3         1       1  \n",
      "\n",
      "[62 rows x 11 columns]\n"
     ]
    }
   ],
   "source": [
    "import pandas as pd\n",
    "mammals=pd.read_csv(\"mammals_sleep.csv\",sep='\\t')\n",
    "print(mammals)"
   ]
  },
  {
   "cell_type": "code",
   "execution_count": 7,
   "id": "1cd4da33",
   "metadata": {},
   "outputs": [
    {
     "data": {
      "text/plain": [
       "Index(['Species', 'BodyWt', 'BrainWt', 'NonDreaming', 'Dreaming', 'TotalSleep',\n",
       "       'LifeSpan', 'Gestation', 'Predation', 'Exposure', 'Danger'],\n",
       "      dtype='object')"
      ]
     },
     "execution_count": 7,
     "metadata": {},
     "output_type": "execute_result"
    }
   ],
   "source": [
    "mammals.columns"
   ]
  },
  {
   "cell_type": "code",
   "execution_count": 8,
   "id": "95d6b6f6",
   "metadata": {},
   "outputs": [],
   "source": [
    "mammals['body_sqrd']=mammals['BodyWt']**2 ## to add new features cube and square of BodyWt\n",
    "mammals['body_cube']=mammals['BodyWt']**3"
   ]
  },
  {
   "cell_type": "code",
   "execution_count": 9,
   "id": "e4880806",
   "metadata": {},
   "outputs": [
    {
     "data": {
      "text/html": [
       "<div>\n",
       "<style scoped>\n",
       "    .dataframe tbody tr th:only-of-type {\n",
       "        vertical-align: middle;\n",
       "    }\n",
       "\n",
       "    .dataframe tbody tr th {\n",
       "        vertical-align: top;\n",
       "    }\n",
       "\n",
       "    .dataframe thead th {\n",
       "        text-align: right;\n",
       "    }\n",
       "</style>\n",
       "<table border=\"1\" class=\"dataframe\">\n",
       "  <thead>\n",
       "    <tr style=\"text-align: right;\">\n",
       "      <th></th>\n",
       "      <th>Species</th>\n",
       "      <th>BodyWt</th>\n",
       "      <th>BrainWt</th>\n",
       "      <th>NonDreaming</th>\n",
       "      <th>Dreaming</th>\n",
       "      <th>TotalSleep</th>\n",
       "      <th>LifeSpan</th>\n",
       "      <th>Gestation</th>\n",
       "      <th>Predation</th>\n",
       "      <th>Exposure</th>\n",
       "      <th>Danger</th>\n",
       "      <th>body_sqrd</th>\n",
       "      <th>body_cube</th>\n",
       "    </tr>\n",
       "  </thead>\n",
       "  <tbody>\n",
       "    <tr>\n",
       "      <th>0</th>\n",
       "      <td>Africanelephant</td>\n",
       "      <td>6654.000</td>\n",
       "      <td>5712.0</td>\n",
       "      <td>NaN</td>\n",
       "      <td>NaN</td>\n",
       "      <td>3.3</td>\n",
       "      <td>38.6</td>\n",
       "      <td>645.0</td>\n",
       "      <td>3</td>\n",
       "      <td>5</td>\n",
       "      <td>3</td>\n",
       "      <td>4.427572e+07</td>\n",
       "      <td>2.946106e+11</td>\n",
       "    </tr>\n",
       "    <tr>\n",
       "      <th>1</th>\n",
       "      <td>Africangiantpouchedrat</td>\n",
       "      <td>1.000</td>\n",
       "      <td>6.6</td>\n",
       "      <td>6.3</td>\n",
       "      <td>2.0</td>\n",
       "      <td>8.3</td>\n",
       "      <td>4.5</td>\n",
       "      <td>42.0</td>\n",
       "      <td>3</td>\n",
       "      <td>1</td>\n",
       "      <td>3</td>\n",
       "      <td>1.000000e+00</td>\n",
       "      <td>1.000000e+00</td>\n",
       "    </tr>\n",
       "    <tr>\n",
       "      <th>2</th>\n",
       "      <td>ArcticFox</td>\n",
       "      <td>3.385</td>\n",
       "      <td>44.5</td>\n",
       "      <td>NaN</td>\n",
       "      <td>NaN</td>\n",
       "      <td>12.5</td>\n",
       "      <td>14.0</td>\n",
       "      <td>60.0</td>\n",
       "      <td>1</td>\n",
       "      <td>1</td>\n",
       "      <td>1</td>\n",
       "      <td>1.145822e+01</td>\n",
       "      <td>3.878609e+01</td>\n",
       "    </tr>\n",
       "    <tr>\n",
       "      <th>3</th>\n",
       "      <td>Arcticgroundsquirrel</td>\n",
       "      <td>0.920</td>\n",
       "      <td>5.7</td>\n",
       "      <td>NaN</td>\n",
       "      <td>NaN</td>\n",
       "      <td>16.5</td>\n",
       "      <td>NaN</td>\n",
       "      <td>25.0</td>\n",
       "      <td>5</td>\n",
       "      <td>2</td>\n",
       "      <td>3</td>\n",
       "      <td>8.464000e-01</td>\n",
       "      <td>7.786880e-01</td>\n",
       "    </tr>\n",
       "    <tr>\n",
       "      <th>4</th>\n",
       "      <td>Asianelephant</td>\n",
       "      <td>2547.000</td>\n",
       "      <td>4603.0</td>\n",
       "      <td>2.1</td>\n",
       "      <td>1.8</td>\n",
       "      <td>3.9</td>\n",
       "      <td>69.0</td>\n",
       "      <td>624.0</td>\n",
       "      <td>3</td>\n",
       "      <td>5</td>\n",
       "      <td>4</td>\n",
       "      <td>6.487209e+06</td>\n",
       "      <td>1.652292e+10</td>\n",
       "    </tr>\n",
       "    <tr>\n",
       "      <th>...</th>\n",
       "      <td>...</td>\n",
       "      <td>...</td>\n",
       "      <td>...</td>\n",
       "      <td>...</td>\n",
       "      <td>...</td>\n",
       "      <td>...</td>\n",
       "      <td>...</td>\n",
       "      <td>...</td>\n",
       "      <td>...</td>\n",
       "      <td>...</td>\n",
       "      <td>...</td>\n",
       "      <td>...</td>\n",
       "      <td>...</td>\n",
       "    </tr>\n",
       "    <tr>\n",
       "      <th>57</th>\n",
       "      <td>Treehyrax</td>\n",
       "      <td>2.000</td>\n",
       "      <td>12.3</td>\n",
       "      <td>4.9</td>\n",
       "      <td>0.5</td>\n",
       "      <td>5.4</td>\n",
       "      <td>7.5</td>\n",
       "      <td>200.0</td>\n",
       "      <td>3</td>\n",
       "      <td>1</td>\n",
       "      <td>3</td>\n",
       "      <td>4.000000e+00</td>\n",
       "      <td>8.000000e+00</td>\n",
       "    </tr>\n",
       "    <tr>\n",
       "      <th>58</th>\n",
       "      <td>Treeshrew</td>\n",
       "      <td>0.104</td>\n",
       "      <td>2.5</td>\n",
       "      <td>13.2</td>\n",
       "      <td>2.6</td>\n",
       "      <td>15.8</td>\n",
       "      <td>2.3</td>\n",
       "      <td>46.0</td>\n",
       "      <td>3</td>\n",
       "      <td>2</td>\n",
       "      <td>2</td>\n",
       "      <td>1.081600e-02</td>\n",
       "      <td>1.124864e-03</td>\n",
       "    </tr>\n",
       "    <tr>\n",
       "      <th>59</th>\n",
       "      <td>Vervet</td>\n",
       "      <td>4.190</td>\n",
       "      <td>58.0</td>\n",
       "      <td>9.7</td>\n",
       "      <td>0.6</td>\n",
       "      <td>10.3</td>\n",
       "      <td>24.0</td>\n",
       "      <td>210.0</td>\n",
       "      <td>4</td>\n",
       "      <td>3</td>\n",
       "      <td>4</td>\n",
       "      <td>1.755610e+01</td>\n",
       "      <td>7.356006e+01</td>\n",
       "    </tr>\n",
       "    <tr>\n",
       "      <th>60</th>\n",
       "      <td>Wateropossum</td>\n",
       "      <td>3.500</td>\n",
       "      <td>3.9</td>\n",
       "      <td>12.8</td>\n",
       "      <td>6.6</td>\n",
       "      <td>19.4</td>\n",
       "      <td>3.0</td>\n",
       "      <td>14.0</td>\n",
       "      <td>2</td>\n",
       "      <td>1</td>\n",
       "      <td>1</td>\n",
       "      <td>1.225000e+01</td>\n",
       "      <td>4.287500e+01</td>\n",
       "    </tr>\n",
       "    <tr>\n",
       "      <th>61</th>\n",
       "      <td>Yellow-belliedmarmot</td>\n",
       "      <td>4.050</td>\n",
       "      <td>17.0</td>\n",
       "      <td>NaN</td>\n",
       "      <td>NaN</td>\n",
       "      <td>NaN</td>\n",
       "      <td>13.0</td>\n",
       "      <td>38.0</td>\n",
       "      <td>3</td>\n",
       "      <td>1</td>\n",
       "      <td>1</td>\n",
       "      <td>1.640250e+01</td>\n",
       "      <td>6.643012e+01</td>\n",
       "    </tr>\n",
       "  </tbody>\n",
       "</table>\n",
       "<p>62 rows × 13 columns</p>\n",
       "</div>"
      ],
      "text/plain": [
       "                   Species    BodyWt  BrainWt  NonDreaming  Dreaming  \\\n",
       "0          Africanelephant  6654.000   5712.0          NaN       NaN   \n",
       "1   Africangiantpouchedrat     1.000      6.6          6.3       2.0   \n",
       "2                ArcticFox     3.385     44.5          NaN       NaN   \n",
       "3     Arcticgroundsquirrel     0.920      5.7          NaN       NaN   \n",
       "4            Asianelephant  2547.000   4603.0          2.1       1.8   \n",
       "..                     ...       ...      ...          ...       ...   \n",
       "57               Treehyrax     2.000     12.3          4.9       0.5   \n",
       "58               Treeshrew     0.104      2.5         13.2       2.6   \n",
       "59                  Vervet     4.190     58.0          9.7       0.6   \n",
       "60            Wateropossum     3.500      3.9         12.8       6.6   \n",
       "61    Yellow-belliedmarmot     4.050     17.0          NaN       NaN   \n",
       "\n",
       "    TotalSleep  LifeSpan  Gestation  Predation  Exposure  Danger  \\\n",
       "0          3.3      38.6      645.0          3         5       3   \n",
       "1          8.3       4.5       42.0          3         1       3   \n",
       "2         12.5      14.0       60.0          1         1       1   \n",
       "3         16.5       NaN       25.0          5         2       3   \n",
       "4          3.9      69.0      624.0          3         5       4   \n",
       "..         ...       ...        ...        ...       ...     ...   \n",
       "57         5.4       7.5      200.0          3         1       3   \n",
       "58        15.8       2.3       46.0          3         2       2   \n",
       "59        10.3      24.0      210.0          4         3       4   \n",
       "60        19.4       3.0       14.0          2         1       1   \n",
       "61         NaN      13.0       38.0          3         1       1   \n",
       "\n",
       "       body_sqrd     body_cube  \n",
       "0   4.427572e+07  2.946106e+11  \n",
       "1   1.000000e+00  1.000000e+00  \n",
       "2   1.145822e+01  3.878609e+01  \n",
       "3   8.464000e-01  7.786880e-01  \n",
       "4   6.487209e+06  1.652292e+10  \n",
       "..           ...           ...  \n",
       "57  4.000000e+00  8.000000e+00  \n",
       "58  1.081600e-02  1.124864e-03  \n",
       "59  1.755610e+01  7.356006e+01  \n",
       "60  1.225000e+01  4.287500e+01  \n",
       "61  1.640250e+01  6.643012e+01  \n",
       "\n",
       "[62 rows x 13 columns]"
      ]
     },
     "execution_count": 9,
     "metadata": {},
     "output_type": "execute_result"
    }
   ],
   "source": [
    "mammals"
   ]
  },
  {
   "cell_type": "code",
   "execution_count": 10,
   "id": "3d8043dd",
   "metadata": {},
   "outputs": [
    {
     "data": {
      "text/plain": [
       "<matplotlib.collections.PathCollection at 0x2670c40fb20>"
      ]
     },
     "execution_count": 10,
     "metadata": {},
     "output_type": "execute_result"
    },
    {
     "data": {
      "image/png": "[encoded data removed]",
      "text/plain": [
       "<Figure size 640x480 with 1 Axes>"
      ]
     },
     "metadata": {},
     "output_type": "display_data"
    }
   ],
   "source": [
    "plt.scatter(mammals['Species'],mammals['BodyWt'])"
   ]
  },
  {
   "cell_type": "code",
   "execution_count": 11,
   "id": "df6b3d5c",
   "metadata": {},
   "outputs": [
    {
     "name": "stdout",
     "output_type": "stream",
     "text": [
      "(62, 3)\n"
     ]
    },
    {
     "data": {
      "text/plain": [
       "(62, 1)"
      ]
     },
     "execution_count": 11,
     "metadata": {},
     "output_type": "execute_result"
    }
   ],
   "source": [
    "from sklearn.preprocessing import StandardScaler\n",
    "x=mammals[['BodyWt','body_sqrd','body_cube']]\n",
    "y=mammals[['BrainWt']]\n",
    "print(x.shape)\n",
    "y.shape"
   ]
  },
  {
   "cell_type": "code",
   "execution_count": 12,
   "id": "142687d4",
   "metadata": {},
   "outputs": [
    {
     "name": "stdout",
     "output_type": "stream",
     "text": [
      "[[ 7.23777846e+00  7.72735550e+00  7.79798404e+00]\n",
      " [-2.21768166e-01 -1.48525148e-01 -1.35321659e-01]\n",
      " [-2.19094031e-01 -1.48523288e-01 -1.35321658e-01]\n",
      " [-2.21857864e-01 -1.48525176e-01 -1.35321659e-01]\n",
      " [ 2.63288473e+00  1.00543647e+00  3.09609310e-01]\n",
      " [-2.11060414e-01 -1.48505528e-01 -1.35321627e-01]\n",
      " [-2.22863608e-01 -1.48525326e-01 -1.35321659e-01]\n",
      " [-4.34925137e-02 -1.43971531e-01 -1.35211361e-01]\n",
      " [-2.19189336e-01 -1.48523389e-01 -1.35321658e-01]\n",
      " [-1.64406013e-01 -1.48041367e-01 -1.35317837e-01]\n",
      " [-2.22412873e-01 -1.48525294e-01 -1.35321659e-01]\n",
      " [ 2.98482794e-01 -1.10062655e-01 -1.32614182e-01]\n",
      " [-2.22272720e-01 -1.48525272e-01 -1.35321659e-01]\n",
      " [-1.31071667e-02 -1.42298294e-01 -1.35145288e-01]\n",
      " [-2.22805304e-01 -1.48525325e-01 -1.35321659e-01]\n",
      " [-2.19525705e-01 -1.48523725e-01 -1.35321658e-01]\n",
      " [-2.22009230e-01 -1.48525217e-01 -1.35321659e-01]\n",
      " [-2.22665150e-01 -1.48525319e-01 -1.35321659e-01]\n",
      " [-2.21308461e-01 -1.48524973e-01 -1.35321659e-01]\n",
      " [-1.55615565e-01 -1.47884949e-01 -1.35315842e-01]\n",
      " [ 3.70241547e-01 -9.87464731e-02 -1.31335333e-01]\n",
      " [-1.91876160e-01 -1.48389233e-01 -1.35321089e-01]\n",
      " [-2.22754849e-01 -1.48525324e-01 -1.35321659e-01]\n",
      " [ 9.20532063e-03 -1.40903233e-01 -1.35082813e-01]\n",
      " [-1.27584802e-01 -1.47240124e-01 -1.35305121e-01]\n",
      " [-1.82155092e-01 -1.48290545e-01 -1.35320367e-01]\n",
      " [-2.22776152e-01 -1.48525324e-01 -1.35321659e-01]\n",
      " [-2.21723317e-01 -1.48525134e-01 -1.35321659e-01]\n",
      " [ 3.61271703e-01 -1.00240687e-01 -1.31513465e-01]\n",
      " [-1.10766345e-01 -1.46746500e-01 -1.35294731e-01]\n",
      " [-1.83646328e-01 -1.48307420e-01 -1.35320504e-01]\n",
      " [-2.22883790e-01 -1.48525326e-01 -1.35321659e-01]\n",
      " [-2.22878184e-01 -1.48525326e-01 -1.35321659e-01]\n",
      " [-1.53373104e-01 -1.47841545e-01 -1.35315241e-01]\n",
      " [-2.22752606e-01 -1.48525324e-01 -1.35321659e-01]\n",
      " [-2.21375735e-01 -1.48525002e-01 -1.35321659e-01]\n",
      " [-2.22863608e-01 -1.48525326e-01 -1.35321659e-01]\n",
      " [-2.22835577e-01 -1.48525326e-01 -1.35321659e-01]\n",
      " [-2.20983304e-01 -1.48524812e-01 -1.35321659e-01]\n",
      " [-2.18965090e-01 -1.48523147e-01 -1.35321658e-01]\n",
      " [ 5.74182328e-02 -1.37407662e-01 -1.34900907e-01]\n",
      " [-2.22351206e-01 -1.48525285e-01 -1.35321659e-01]\n",
      " [-2.11677091e-01 -1.48507538e-01 -1.35321632e-01]\n",
      " [-2.21073003e-01 -1.48524859e-01 -1.35321659e-01]\n",
      " [-7.61313712e-03 -1.41967861e-01 -1.35131065e-01]\n",
      " [-2.20086320e-01 -1.48524215e-01 -1.35321658e-01]\n",
      " [-2.18081560e-01 -1.48522056e-01 -1.35321657e-01]\n",
      " [-2.22575452e-01 -1.48525312e-01 -1.35321659e-01]\n",
      " [-2.18140985e-01 -1.48522136e-01 -1.35321657e-01]\n",
      " [-2.15265029e-01 -1.48517101e-01 -1.35321650e-01]\n",
      " [-2.22048473e-01 -1.48525226e-01 -1.35321659e-01]\n",
      " [-2.18852966e-01 -1.48523021e-01 -1.35321657e-01]\n",
      " [-2.06261548e-01 -1.48486205e-01 -1.35321571e-01]\n",
      " [-1.60661103e-01 -1.47977403e-01 -1.35317055e-01]\n",
      " [-2.21319674e-01 -1.48524978e-01 -1.35321659e-01]\n",
      " [-2.22822123e-01 -1.48525326e-01 -1.35321659e-01]\n",
      " [-2.21880289e-01 -1.48525182e-01 -1.35321659e-01]\n",
      " [-2.20646935e-01 -1.48524615e-01 -1.35321658e-01]\n",
      " [-2.22772788e-01 -1.48525324e-01 -1.35321659e-01]\n",
      " [-2.18191440e-01 -1.48522203e-01 -1.35321657e-01]\n",
      " [-2.18965090e-01 -1.48523147e-01 -1.35321658e-01]\n",
      " [-2.18348413e-01 -1.48522409e-01 -1.35321657e-01]]\n"
     ]
    }
   ],
   "source": [
    "xscaled=StandardScaler().fit_transform(x)\n",
    "print(xscaled)"
   ]
  },
  {
   "cell_type": "code",
   "execution_count": 13,
   "id": "62d85d2f",
   "metadata": {},
   "outputs": [
    {
     "name": "stdout",
     "output_type": "stream",
     "text": [
      "[[ 5.88337924]\n",
      " [-0.29968608]\n",
      " [-0.25861303]\n",
      " [-0.30066143]\n",
      " [ 4.68153196]\n",
      " [-0.11231062]\n",
      " [-0.30651353]\n",
      " [-0.12368969]\n",
      " [-0.27909537]\n",
      " [ 0.16999887]\n",
      " [-0.29990283]\n",
      " [ 0.1515756 ]\n",
      " [-0.30423771]\n",
      " [ 0.14724071]\n",
      " [-0.30553818]\n",
      " [-0.27974561]\n",
      " [-0.30304562]\n",
      " [-0.30142004]\n",
      " [-0.28787352]\n",
      " [-0.2190572 ]\n",
      " [ 0.43009205]\n",
      " [-0.18221066]\n",
      " [-0.30575492]\n",
      " [ 0.13315233]\n",
      " [ 0.04537088]\n",
      " [-0.17733391]\n",
      " [-0.30250376]\n",
      " [-0.30087818]\n",
      " [ 0.40299901]\n",
      " [-0.13669435]\n",
      " [-0.24615024]\n",
      " [-0.30668693]\n",
      " [-0.30656772]\n",
      " [ 1.12367389]\n",
      " [-0.30358748]\n",
      " [-0.2980605 ]\n",
      " [-0.30640516]\n",
      " [-0.30648102]\n",
      " [-0.3000112 ]\n",
      " [-0.29513445]\n",
      " [ 0.22418495]\n",
      " [-0.29004096]\n",
      " [-0.18221066]\n",
      " [-0.29448422]\n",
      " [-0.11176876]\n",
      " [-0.29372561]\n",
      " [-0.26435676]\n",
      " [-0.30477958]\n",
      " [-0.25221908]\n",
      " [-0.11285248]\n",
      " [-0.29350887]\n",
      " [-0.28408049]\n",
      " [-0.20041718]\n",
      " [-0.11718736]\n",
      " [-0.29329213]\n",
      " [-0.30575492]\n",
      " [-0.30402097]\n",
      " [-0.29350887]\n",
      " [-0.30412934]\n",
      " [-0.24398279]\n",
      " [-0.30261213]\n",
      " [-0.28841538]]\n"
     ]
    }
   ],
   "source": [
    "yscaled=StandardScaler().fit_transform(y)\n",
    "print(yscaled)"
   ]
  },
  {
   "cell_type": "code",
   "execution_count": 14,
   "id": "a1056c46",
   "metadata": {},
   "outputs": [
    {
     "name": "stdout",
     "output_type": "stream",
     "text": [
      "[[ 7.23777846e+00  7.72735550e+00  7.79798404e+00]\n",
      " [-2.21768166e-01 -1.48525148e-01 -1.35321659e-01]\n",
      " [-2.19094031e-01 -1.48523288e-01 -1.35321658e-01]\n",
      " [-2.21857864e-01 -1.48525176e-01 -1.35321659e-01]\n",
      " [ 2.63288473e+00  1.00543647e+00  3.09609310e-01]\n",
      " [-2.11060414e-01 -1.48505528e-01 -1.35321627e-01]\n",
      " [-2.22863608e-01 -1.48525326e-01 -1.35321659e-01]\n",
      " [-4.34925137e-02 -1.43971531e-01 -1.35211361e-01]\n",
      " [-2.19189336e-01 -1.48523389e-01 -1.35321658e-01]\n",
      " [-1.64406013e-01 -1.48041367e-01 -1.35317837e-01]\n",
      " [-2.22412873e-01 -1.48525294e-01 -1.35321659e-01]\n",
      " [ 2.98482794e-01 -1.10062655e-01 -1.32614182e-01]\n",
      " [-2.22272720e-01 -1.48525272e-01 -1.35321659e-01]\n",
      " [-1.31071667e-02 -1.42298294e-01 -1.35145288e-01]\n",
      " [-2.22805304e-01 -1.48525325e-01 -1.35321659e-01]\n",
      " [-2.19525705e-01 -1.48523725e-01 -1.35321658e-01]\n",
      " [-2.22009230e-01 -1.48525217e-01 -1.35321659e-01]\n",
      " [-2.22665150e-01 -1.48525319e-01 -1.35321659e-01]\n",
      " [-2.21308461e-01 -1.48524973e-01 -1.35321659e-01]\n",
      " [-1.55615565e-01 -1.47884949e-01 -1.35315842e-01]\n",
      " [ 3.70241547e-01 -9.87464731e-02 -1.31335333e-01]\n",
      " [-1.91876160e-01 -1.48389233e-01 -1.35321089e-01]\n",
      " [-2.22754849e-01 -1.48525324e-01 -1.35321659e-01]\n",
      " [ 9.20532063e-03 -1.40903233e-01 -1.35082813e-01]\n",
      " [-1.27584802e-01 -1.47240124e-01 -1.35305121e-01]\n",
      " [-1.82155092e-01 -1.48290545e-01 -1.35320367e-01]\n",
      " [-2.22776152e-01 -1.48525324e-01 -1.35321659e-01]\n",
      " [-2.21723317e-01 -1.48525134e-01 -1.35321659e-01]\n",
      " [ 3.61271703e-01 -1.00240687e-01 -1.31513465e-01]\n",
      " [-1.10766345e-01 -1.46746500e-01 -1.35294731e-01]\n",
      " [-1.83646328e-01 -1.48307420e-01 -1.35320504e-01]\n",
      " [-2.22883790e-01 -1.48525326e-01 -1.35321659e-01]\n",
      " [-2.22878184e-01 -1.48525326e-01 -1.35321659e-01]\n",
      " [-1.53373104e-01 -1.47841545e-01 -1.35315241e-01]\n",
      " [-2.22752606e-01 -1.48525324e-01 -1.35321659e-01]\n",
      " [-2.21375735e-01 -1.48525002e-01 -1.35321659e-01]\n",
      " [-2.22863608e-01 -1.48525326e-01 -1.35321659e-01]\n",
      " [-2.22835577e-01 -1.48525326e-01 -1.35321659e-01]\n",
      " [-2.20983304e-01 -1.48524812e-01 -1.35321659e-01]\n",
      " [-2.18965090e-01 -1.48523147e-01 -1.35321658e-01]\n",
      " [ 5.74182328e-02 -1.37407662e-01 -1.34900907e-01]\n",
      " [-2.22351206e-01 -1.48525285e-01 -1.35321659e-01]\n",
      " [-2.11677091e-01 -1.48507538e-01 -1.35321632e-01]\n",
      " [-2.21073003e-01 -1.48524859e-01 -1.35321659e-01]\n",
      " [-7.61313712e-03 -1.41967861e-01 -1.35131065e-01]\n",
      " [-2.20086320e-01 -1.48524215e-01 -1.35321658e-01]\n",
      " [-2.18081560e-01 -1.48522056e-01 -1.35321657e-01]\n",
      " [-2.22575452e-01 -1.48525312e-01 -1.35321659e-01]\n",
      " [-2.18140985e-01 -1.48522136e-01 -1.35321657e-01]\n",
      " [-2.15265029e-01 -1.48517101e-01 -1.35321650e-01]\n",
      " [-2.22048473e-01 -1.48525226e-01 -1.35321659e-01]\n",
      " [-2.18852966e-01 -1.48523021e-01 -1.35321657e-01]\n",
      " [-2.06261548e-01 -1.48486205e-01 -1.35321571e-01]\n",
      " [-1.60661103e-01 -1.47977403e-01 -1.35317055e-01]\n",
      " [-2.21319674e-01 -1.48524978e-01 -1.35321659e-01]\n",
      " [-2.22822123e-01 -1.48525326e-01 -1.35321659e-01]\n",
      " [-2.21880289e-01 -1.48525182e-01 -1.35321659e-01]\n",
      " [-2.20646935e-01 -1.48524615e-01 -1.35321658e-01]\n",
      " [-2.22772788e-01 -1.48525324e-01 -1.35321659e-01]\n",
      " [-2.18191440e-01 -1.48522203e-01 -1.35321657e-01]\n",
      " [-2.18965090e-01 -1.48523147e-01 -1.35321658e-01]\n",
      " [-2.18348413e-01 -1.48522409e-01 -1.35321657e-01]]\n",
      "    BrainWt\n",
      "0    5712.0\n",
      "1       6.6\n",
      "2      44.5\n",
      "3       5.7\n",
      "4    4603.0\n",
      "..      ...\n",
      "57     12.3\n",
      "58      2.5\n",
      "59     58.0\n",
      "60      3.9\n",
      "61     17.0\n",
      "\n",
      "[62 rows x 1 columns]\n"
     ]
    }
   ],
   "source": [
    "print(xscaled)\n",
    "print(y)"
   ]
  },
  {
   "cell_type": "code",
   "execution_count": 15,
   "id": "62e1667f",
   "metadata": {},
   "outputs": [],
   "source": [
    "from sklearn.model_selection import train_test_split"
   ]
  },
  {
   "cell_type": "code",
   "execution_count": 16,
   "id": "0a112b34",
   "metadata": {},
   "outputs": [
    {
     "name": "stdout",
     "output_type": "stream",
     "text": [
      "(49, 3)\n",
      "(49, 1)\n",
      "(13, 3)\n",
      "(13, 1)\n"
     ]
    }
   ],
   "source": [
    "xtrain,xtest,ytrain,ytest=train_test_split(xscaled,yscaled,test_size=0.2,random_state=42)\n",
    "print(xtrain.shape)\n",
    "print(ytrain.shape)\n",
    "print(xtest.shape)\n",
    "print(ytest.shape)"
   ]
  },
  {
   "cell_type": "code",
   "execution_count": 17,
   "id": "65c49b3e",
   "metadata": {},
   "outputs": [
    {
     "name": "stdout",
     "output_type": "stream",
     "text": [
      "[0.001    0.017625 0.03425  0.050875 0.0675   0.084125 0.10075  0.117375\n",
      " 0.134    0.150625 0.16725  0.183875 0.2005   0.217125 0.23375  0.250375\n",
      " 0.267    0.283625 0.30025  0.316875 0.3335   0.350125 0.36675  0.383375\n",
      " 0.4     ]\n"
     ]
    }
   ],
   "source": [
    "from sklearn.model_selection import GridSearchCV\n",
    "from sklearn.linear_model import Ridge,Lasso\n",
    "lambda_range=np.linspace(0.001,0.4,25)\n",
    "print(lambda_range)"
   ]
  },
  {
   "cell_type": "code",
   "execution_count": 18,
   "id": "dfde7f46",
   "metadata": {},
   "outputs": [],
   "source": [
    "model1=Ridge(max_iter=10000)\n",
    "model2=Lasso(max_iter=10000)"
   ]
  },
  {
   "cell_type": "code",
   "execution_count": 19,
   "id": "f48882ca",
   "metadata": {},
   "outputs": [
    {
     "data": {
      "text/plain": [
       "[{'alpha': array([0.001   , 0.017625, 0.03425 , 0.050875, 0.0675  , 0.084125,\n",
       "         0.10075 , 0.117375, 0.134   , 0.150625, 0.16725 , 0.183875,\n",
       "         0.2005  , 0.217125, 0.23375 , 0.250375, 0.267   , 0.283625,\n",
       "         0.30025 , 0.316875, 0.3335  , 0.350125, 0.36675 , 0.383375,\n",
       "         0.4     ])}]"
      ]
     },
     "execution_count": 19,
     "metadata": {},
     "output_type": "execute_result"
    }
   ],
   "source": [
    "import sklearn.model_selection as ms\n",
    "lambda_grid=[{'alpha':lambda_range}]\n",
    "lambda_grid"
   ]
  },
  {
   "cell_type": "raw",
   "id": "26590c34",
   "metadata": {},
   "source": [
    "### RIDGE"
   ]
  },
  {
   "cell_type": "code",
   "execution_count": 20,
   "id": "3f72e409",
   "metadata": {},
   "outputs": [
    {
     "data": {
      "text/plain": [
       "GridSearchCV(cv=KFold(n_splits=20, random_state=None, shuffle=False),\n",
       "             estimator=Ridge(max_iter=10000),\n",
       "             param_grid=[{'alpha': array([0.001   , 0.017625, 0.03425 , 0.050875, 0.0675  , 0.084125,\n",
       "       0.10075 , 0.117375, 0.134   , 0.150625, 0.16725 , 0.183875,\n",
       "       0.2005  , 0.217125, 0.23375 , 0.250375, 0.267   , 0.283625,\n",
       "       0.30025 , 0.316875, 0.3335  , 0.350125, 0.36675 , 0.383375,\n",
       "       0.4     ])}])"
      ]
     },
     "execution_count": 20,
     "metadata": {},
     "output_type": "execute_result"
    }
   ],
   "source": [
    "cv_ridge=GridSearchCV(estimator=model1,param_grid=lambda_grid,cv=ms.KFold(n_splits=20))\n",
    "cv_ridge.fit(xtrain,ytrain)"
   ]
  },
  {
   "cell_type": "code",
   "execution_count": 21,
   "id": "09e6e3ef",
   "metadata": {},
   "outputs": [
    {
     "data": {
      "text/plain": [
       "{'alpha': 0.217125}"
      ]
     },
     "execution_count": 21,
     "metadata": {},
     "output_type": "execute_result"
    }
   ],
   "source": [
    "cv_ridge.best_params_"
   ]
  },
  {
   "cell_type": "code",
   "execution_count": 22,
   "id": "ca24c34c",
   "metadata": {},
   "outputs": [
    {
     "data": {
      "text/plain": [
       "Ridge(alpha=0.217125, max_iter=10000)"
      ]
     },
     "execution_count": 22,
     "metadata": {},
     "output_type": "execute_result"
    }
   ],
   "source": [
    "best_lamdaridge=cv_ridge.best_params_['alpha']\n",
    "brain_ridge=Ridge(alpha=best_lamdaridge,max_iter=10000)\n",
    "brain_ridge.fit(xtrain,ytrain)"
   ]
  },
  {
   "cell_type": "code",
   "execution_count": 23,
   "id": "9afeaa41",
   "metadata": {},
   "outputs": [
    {
     "name": "stdout",
     "output_type": "stream",
     "text": [
      "[[1.30458847 0.77727877 0.33190207]]\n"
     ]
    }
   ],
   "source": [
    "print(brain_ridge.coef_)"
   ]
  },
  {
   "cell_type": "raw",
   "id": "9010d027",
   "metadata": {},
   "source": [
    "####LASSO"
   ]
  },
  {
   "cell_type": "code",
   "execution_count": 24,
   "id": "cc31a669",
   "metadata": {},
   "outputs": [
    {
     "data": {
      "text/plain": [
       "GridSearchCV(cv=KFold(n_splits=20, random_state=None, shuffle=False),\n",
       "             estimator=Lasso(max_iter=10000),\n",
       "             param_grid=[{'alpha': array([0.001   , 0.017625, 0.03425 , 0.050875, 0.0675  , 0.084125,\n",
       "       0.10075 , 0.117375, 0.134   , 0.150625, 0.16725 , 0.183875,\n",
       "       0.2005  , 0.217125, 0.23375 , 0.250375, 0.267   , 0.283625,\n",
       "       0.30025 , 0.316875, 0.3335  , 0.350125, 0.36675 , 0.383375,\n",
       "       0.4     ])}])"
      ]
     },
     "execution_count": 24,
     "metadata": {},
     "output_type": "execute_result"
    }
   ],
   "source": [
    "cv_lasso=GridSearchCV(estimator=model2,param_grid=lambda_grid,cv=ms.KFold(n_splits=20))#cross validate 20 times\n",
    "cv_lasso.fit(xtrain,ytrain)"
   ]
  },
  {
   "cell_type": "code",
   "execution_count": 25,
   "id": "cabbb1a6",
   "metadata": {},
   "outputs": [
    {
     "data": {
      "text/plain": [
       "0.017625000000000002"
      ]
     },
     "execution_count": 25,
     "metadata": {},
     "output_type": "execute_result"
    }
   ],
   "source": [
    "cv_lasso.best_params_['alpha']"
   ]
  },
  {
   "cell_type": "code",
   "execution_count": 26,
   "id": "b110206a",
   "metadata": {},
   "outputs": [
    {
     "data": {
      "text/plain": [
       "Lasso(alpha=0.017625000000000002, max_iter=10000)"
      ]
     },
     "execution_count": 26,
     "metadata": {},
     "output_type": "execute_result"
    }
   ],
   "source": [
    "best_lamdalasso=cv_lasso.best_params_['alpha']\n",
    "brain_lasso=Lasso(alpha=best_lamdalasso,max_iter=10000)\n",
    "brain_lasso.fit(xtrain,ytrain)"
   ]
  },
  {
   "cell_type": "code",
   "execution_count": 27,
   "id": "0689e48f",
   "metadata": {},
   "outputs": [
    {
     "name": "stdout",
     "output_type": "stream",
     "text": [
      "[1.57371375 0.         0.        ]\n"
     ]
    }
   ],
   "source": [
    "print(brain_lasso.coef_)"
   ]
  },
  {
   "cell_type": "raw",
   "id": "43f717d4",
   "metadata": {},
   "source": []
  },
  {
   "cell_type": "code",
   "execution_count": 28,
   "id": "38b45b3c",
   "metadata": {},
   "outputs": [
    {
     "name": "stdout",
     "output_type": "stream",
     "text": [
      "mse_ridge 11.743863541911821\n",
      "mse_lasso 12.584603363133253\n"
     ]
    }
   ],
   "source": [
    "lasso_prediction=brain_lasso.predict(xtest)\n",
    "ridge_prediction=brain_ridge.predict(xtest)\n",
    "print('mse_ridge',np.mean((ridge_prediction-ytest)**2))\n",
    "print('mse_lasso',np.mean((lasso_prediction-ytest)**2))"
   ]
  },
  {
   "cell_type": "raw",
   "id": "bab061d8",
   "metadata": {},
   "source": []
  },
  {
   "cell_type": "code",
   "execution_count": 29,
   "id": "611793d2",
   "metadata": {},
   "outputs": [
    {
     "name": "stdout",
     "output_type": "stream",
     "text": [
      "0.5151825738521769\n",
      "0.7521192764066162\n"
     ]
    }
   ],
   "source": [
    "from sklearn.metrics import r2_score\n",
    "print(r2_score(ridge_prediction,ytest))\n",
    "print(r2_score(lasso_prediction,ytest))"
   ]
  },
  {
   "cell_type": "code",
   "execution_count": null,
   "id": "d155d41a",
   "metadata": {},
   "outputs": [],
   "source": []
  },
  {
   "cell_type": "code",
   "execution_count": null,
   "id": "c5c909dd",
   "metadata": {},
   "outputs": [],
   "source": []
  },
  {
   "cell_type": "code",
   "execution_count": null,
   "id": "7eef6b52",
   "metadata": {},
   "outputs": [],
   "source": []
  }
 ],
 "metadata": {
  "kernelspec": {
   "display_name": "Python 3 (ipykernel)",
   "language": "python",
   "name": "python3"
  },
  "language_info": {
   "codemirror_mode": {
    "name": "ipython",
    "version": 3
   },
   "file_extension": ".py",
   "mimetype": "text/x-python",
   "name": "python",
   "nbconvert_exporter": "python",
   "pygments_lexer": "ipython3",
   "version": "3.9.13"
  }
 },
 "nbformat": 4,
 "nbformat_minor": 5
}
