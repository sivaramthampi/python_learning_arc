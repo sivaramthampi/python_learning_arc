{
 "cells": [
  {
   "cell_type": "code",
   "execution_count": 36,
   "id": "13e9adb2",
   "metadata": {},
   "outputs": [],
   "source": [
    "import pandas as pd\n",
    "import numpy as np\n",
    "import matplotlib.pyplot as plt\n",
    "from sklearn.feature_extraction.text import TfidfVectorizer\n",
    "from sklearn.model_selection import train_test_split, cross_val_score\n",
    "from sklearn.linear_model import LogisticRegression\n",
    "from sklearn.metrics import roc_curve,auc"
   ]
  },
  {
   "cell_type": "code",
   "execution_count": 37,
   "id": "18fed710",
   "metadata": {},
   "outputs": [
    {
     "data": {
      "text/html": [
       "<div>\n",
       "<style scoped>\n",
       "    .dataframe tbody tr th:only-of-type {\n",
       "        vertical-align: middle;\n",
       "    }\n",
       "\n",
       "    .dataframe tbody tr th {\n",
       "        vertical-align: top;\n",
       "    }\n",
       "\n",
       "    .dataframe thead th {\n",
       "        text-align: right;\n",
       "    }\n",
       "</style>\n",
       "<table border=\"1\" class=\"dataframe\">\n",
       "  <thead>\n",
       "    <tr style=\"text-align: right;\">\n",
       "      <th></th>\n",
       "      <th>0</th>\n",
       "      <th>1</th>\n",
       "    </tr>\n",
       "  </thead>\n",
       "  <tbody>\n",
       "    <tr>\n",
       "      <th>0</th>\n",
       "      <td>ham</td>\n",
       "      <td>Go until jurong point, crazy.. Available only ...</td>\n",
       "    </tr>\n",
       "    <tr>\n",
       "      <th>1</th>\n",
       "      <td>ham</td>\n",
       "      <td>Ok lar... Joking wif u oni...</td>\n",
       "    </tr>\n",
       "    <tr>\n",
       "      <th>2</th>\n",
       "      <td>spam</td>\n",
       "      <td>Free entry in 2 a wkly comp to win FA Cup fina...</td>\n",
       "    </tr>\n",
       "    <tr>\n",
       "      <th>3</th>\n",
       "      <td>ham</td>\n",
       "      <td>U dun say so early hor... U c already then say...</td>\n",
       "    </tr>\n",
       "    <tr>\n",
       "      <th>4</th>\n",
       "      <td>ham</td>\n",
       "      <td>Nah I don't think he goes to usf, he lives aro...</td>\n",
       "    </tr>\n",
       "    <tr>\n",
       "      <th>...</th>\n",
       "      <td>...</td>\n",
       "      <td>...</td>\n",
       "    </tr>\n",
       "    <tr>\n",
       "      <th>5567</th>\n",
       "      <td>spam</td>\n",
       "      <td>This is the 2nd time we have tried 2 contact u...</td>\n",
       "    </tr>\n",
       "    <tr>\n",
       "      <th>5568</th>\n",
       "      <td>ham</td>\n",
       "      <td>Will ü b going to esplanade fr home?</td>\n",
       "    </tr>\n",
       "    <tr>\n",
       "      <th>5569</th>\n",
       "      <td>ham</td>\n",
       "      <td>Pity, * was in mood for that. So...any other s...</td>\n",
       "    </tr>\n",
       "    <tr>\n",
       "      <th>5570</th>\n",
       "      <td>ham</td>\n",
       "      <td>The guy did some bitching but I acted like i'd...</td>\n",
       "    </tr>\n",
       "    <tr>\n",
       "      <th>5571</th>\n",
       "      <td>ham</td>\n",
       "      <td>Rofl. Its true to its name</td>\n",
       "    </tr>\n",
       "  </tbody>\n",
       "</table>\n",
       "<p>5572 rows × 2 columns</p>\n",
       "</div>"
      ],
      "text/plain": [
       "         0                                                  1\n",
       "0      ham  Go until jurong point, crazy.. Available only ...\n",
       "1      ham                      Ok lar... Joking wif u oni...\n",
       "2     spam  Free entry in 2 a wkly comp to win FA Cup fina...\n",
       "3      ham  U dun say so early hor... U c already then say...\n",
       "4      ham  Nah I don't think he goes to usf, he lives aro...\n",
       "...    ...                                                ...\n",
       "5567  spam  This is the 2nd time we have tried 2 contact u...\n",
       "5568   ham               Will ü b going to esplanade fr home?\n",
       "5569   ham  Pity, * was in mood for that. So...any other s...\n",
       "5570   ham  The guy did some bitching but I acted like i'd...\n",
       "5571   ham                         Rofl. Its true to its name\n",
       "\n",
       "[5572 rows x 2 columns]"
      ]
     },
     "execution_count": 37,
     "metadata": {},
     "output_type": "execute_result"
    }
   ],
   "source": [
    "df = pd.read_csv('SMSSpamCollection',delimiter='\\t',header=None)\n",
    "df"
   ]
  },
  {
   "cell_type": "code",
   "execution_count": 38,
   "id": "f70d44f5",
   "metadata": {},
   "outputs": [],
   "source": [
    "xtrain,xtest,ytrain,ytest = train_test_split(df.iloc[:,1],df.iloc[:,0],random_state = 50)"
   ]
  },
  {
   "cell_type": "code",
   "execution_count": 39,
   "id": "ef5b856c",
   "metadata": {},
   "outputs": [
    {
     "name": "stdout",
     "output_type": "stream",
     "text": [
      "(4179, 7380)\n",
      "(1393, 7380)\n"
     ]
    }
   ],
   "source": [
    "vectorizer = TfidfVectorizer() \n",
    "xtrain = vectorizer.fit_transform(xtrain)\n",
    "xtest = vectorizer.transform(xtest)\n",
    "print(xtrain.shape)\n",
    "print(xtest.shape)"
   ]
  },
  {
   "cell_type": "code",
   "execution_count": 40,
   "id": "d43c919e",
   "metadata": {},
   "outputs": [
    {
     "data": {
      "text/plain": [
       "LogisticRegression()"
      ]
     },
     "execution_count": 40,
     "metadata": {},
     "output_type": "execute_result"
    }
   ],
   "source": [
    "classifier = LogisticRegression()\n",
    "classifier.fit(xtrain,ytrain)"
   ]
  },
  {
   "cell_type": "code",
   "execution_count": 41,
   "id": "2dc8d85e",
   "metadata": {},
   "outputs": [
    {
     "name": "stdout",
     "output_type": "stream",
     "text": [
      "['spam' 'ham' 'ham' 'ham' 'spam']\n"
     ]
    }
   ],
   "source": [
    "prediction = classifier.predict(xtest)\n",
    "print(prediction[:5])"
   ]
  },
  {
   "cell_type": "code",
   "execution_count": 42,
   "id": "85e2c851",
   "metadata": {},
   "outputs": [],
   "source": [
    "predict = classifier.predict_proba(xtest)"
   ]
  },
  {
   "cell_type": "code",
   "execution_count": 43,
   "id": "b880fcd8",
   "metadata": {},
   "outputs": [],
   "source": [
    "fpr,tpr,threshold = roc_curve(ytest,predict[:,1],pos_label='spam')"
   ]
  },
  {
   "cell_type": "code",
   "execution_count": 44,
   "id": "47f1d98f",
   "metadata": {},
   "outputs": [
    {
     "name": "stdout",
     "output_type": "stream",
     "text": [
      "FPR -->\n",
      " [0.00000000e+00 0.00000000e+00 0.00000000e+00 0.00000000e+00\n",
      " 0.00000000e+00 0.00000000e+00 0.00000000e+00 0.00000000e+00\n",
      " 0.00000000e+00 0.00000000e+00 0.00000000e+00 8.21692687e-04\n",
      " 8.21692687e-04 1.64338537e-03 1.64338537e-03 1.64338537e-03\n",
      " 1.64338537e-03 1.64338537e-03 1.64338537e-03 2.46507806e-03\n",
      " 2.46507806e-03 3.28677075e-03 3.28677075e-03 5.75184881e-03\n",
      " 6.57354150e-03 6.57354150e-03 8.21692687e-03 8.21692687e-03\n",
      " 8.21692687e-03 9.86031224e-03 9.86031224e-03 1.15036976e-02\n",
      " 1.15036976e-02 1.47904684e-02 1.47904684e-02 1.56121611e-02\n",
      " 1.72555464e-02 1.13393591e-01 1.16680362e-01 1.42152835e-01\n",
      " 1.43796220e-01 1.61873459e-01 1.65160230e-01 2.38290879e-01\n",
      " 2.39934265e-01 2.72801972e-01 2.74445357e-01 2.76088743e-01\n",
      " 2.76088743e-01 3.48397699e-01 3.50041085e-01 3.53327855e-01\n",
      " 3.53327855e-01 4.24815119e-01 4.27280197e-01 4.85620378e-01\n",
      " 4.87263763e-01 5.07806081e-01 5.12736237e-01 5.43138866e-01\n",
      " 5.43138866e-01 6.43385374e-01 6.45028759e-01 6.68857847e-01\n",
      " 6.70501233e-01 7.18981101e-01 7.20624486e-01 7.46918652e-01\n",
      " 7.48562038e-01 7.66639277e-01 7.68282662e-01 7.77321282e-01\n",
      " 7.78964667e-01 8.57025472e-01 8.57025472e-01 9.41659819e-01\n",
      " 9.45768283e-01 9.66310600e-01 9.67953985e-01 9.97534922e-01\n",
      " 9.99178307e-01 1.00000000e+00]\n"
     ]
    }
   ],
   "source": [
    "print(\"FPR -->\\n\",fpr)"
   ]
  },
  {
   "cell_type": "code",
   "execution_count": 45,
   "id": "5e73c90e",
   "metadata": {},
   "outputs": [
    {
     "name": "stdout",
     "output_type": "stream",
     "text": [
      "TPR -->\n",
      " [0.         0.00568182 0.0625     0.07386364 0.14772727 0.15909091\n",
      " 0.26704545 0.27840909 0.50568182 0.51704545 0.60795455 0.60795455\n",
      " 0.78977273 0.78977273 0.80681818 0.81818182 0.82954545 0.84090909\n",
      " 0.88068182 0.88068182 0.89204545 0.89204545 0.90340909 0.90340909\n",
      " 0.90340909 0.90909091 0.90909091 0.92045455 0.92613636 0.92613636\n",
      " 0.9375     0.9375     0.97159091 0.97159091 0.97727273 0.97727273\n",
      " 0.97727273 0.97727273 0.97727273 0.97727273 0.97727273 0.97727273\n",
      " 0.97727273 0.97727273 0.97727273 0.97727273 0.97727273 0.97727273\n",
      " 0.98295455 0.98295455 0.98295455 0.98295455 0.98863636 0.98863636\n",
      " 0.98863636 0.98863636 0.98863636 0.98863636 0.98863636 0.98863636\n",
      " 0.99431818 0.99431818 0.99431818 0.99431818 0.99431818 0.99431818\n",
      " 0.99431818 0.99431818 0.99431818 0.99431818 0.99431818 0.99431818\n",
      " 0.99431818 0.99431818 1.         1.         1.         1.\n",
      " 1.         1.         1.         1.        ]\n"
     ]
    }
   ],
   "source": [
    "print(\"TPR -->\\n\",tpr)"
   ]
  },
  {
   "cell_type": "code",
   "execution_count": 46,
   "id": "f0e32896",
   "metadata": {},
   "outputs": [
    {
     "name": "stdout",
     "output_type": "stream",
     "text": [
      "Threshold -->\n",
      " [1.97101697 0.97101697 0.93371372 0.93256845 0.88018441 0.87981515\n",
      " 0.83423038 0.8324954  0.70921551 0.70791294 0.64992032 0.63801925\n",
      " 0.52281173 0.52236032 0.50753672 0.50265484 0.48810566 0.47349857\n",
      " 0.39565698 0.3877525  0.38188717 0.37896001 0.36514973 0.3604045\n",
      " 0.3502206  0.34914674 0.31274816 0.31160673 0.29293729 0.28306647\n",
      " 0.23142876 0.21868962 0.1935764  0.18523112 0.1851713  0.18463991\n",
      " 0.18432568 0.0915954  0.09137996 0.08464516 0.08441096 0.08141899\n",
      " 0.08129816 0.0697166  0.06969527 0.064005   0.06390674 0.06378031\n",
      " 0.06375668 0.05602657 0.05598498 0.05592201 0.05586402 0.05019154\n",
      " 0.05016986 0.04596343 0.04586102 0.04451483 0.04447588 0.0423446\n",
      " 0.04225273 0.03458574 0.03444138 0.03303865 0.03302503 0.03021069\n",
      " 0.03015499 0.02914482 0.02912562 0.02805793 0.02785591 0.02744999\n",
      " 0.02741994 0.0222144  0.02220328 0.01540868 0.01518488 0.01259975\n",
      " 0.01242825 0.00826229 0.0082191  0.00762866]\n"
     ]
    }
   ],
   "source": [
    "print(\"Threshold -->\\n\",threshold)"
   ]
  },
  {
   "cell_type": "code",
   "execution_count": 47,
   "id": "50214eb9",
   "metadata": {},
   "outputs": [
    {
     "name": "stdout",
     "output_type": "stream",
     "text": [
      "82\n"
     ]
    }
   ],
   "source": [
    "print(len(fpr))"
   ]
  },
  {
   "cell_type": "code",
   "execution_count": 48,
   "id": "3ea4a7ad",
   "metadata": {},
   "outputs": [
    {
     "name": "stdout",
     "output_type": "stream",
     "text": [
      "74\n"
     ]
    }
   ],
   "source": [
    "print(np.argmax(tpr))"
   ]
  },
  {
   "cell_type": "code",
   "execution_count": 49,
   "id": "b3a2380f",
   "metadata": {},
   "outputs": [
    {
     "name": "stdout",
     "output_type": "stream",
     "text": [
      "0.857025472473295\n"
     ]
    }
   ],
   "source": [
    "print(fpr[74]) # Max TPR value pos"
   ]
  },
  {
   "cell_type": "code",
   "execution_count": 50,
   "id": "f1fbc884",
   "metadata": {},
   "outputs": [
    {
     "data": {
      "text/plain": [
       "0.02220328123831108"
      ]
     },
     "execution_count": 50,
     "metadata": {},
     "output_type": "execute_result"
    }
   ],
   "source": [
    "threshold[74] # Threshold to find maximum TPR"
   ]
  },
  {
   "cell_type": "code",
   "execution_count": 52,
   "id": "9eeebef5",
   "metadata": {},
   "outputs": [
    {
     "name": "stdout",
     "output_type": "stream",
     "text": [
      "Area under the curver (AUC) = 0.987338462687682\n"
     ]
    }
   ],
   "source": [
    "area = auc(fpr,tpr)\n",
    "print(\"Area under the curver (AUC) =\",area)"
   ]
  },
  {
   "cell_type": "code",
   "execution_count": 54,
   "id": "daee90ca",
   "metadata": {},
   "outputs": [
    {
     "data": {
      "image/png": "[encoded data removed]",
      "text/plain": [
       "<Figure size 640x480 with 1 Axes>"
      ]
     },
     "metadata": {},
     "output_type": "display_data"
    }
   ],
   "source": [
    "plt.title('ROC Curve')\n",
    "plt.plot(fpr,tpr,'b',label=area)\n",
    "plt.legend(loc='lower right')\n",
    "plt.xlabel('FPR or Fallout')\n",
    "plt.ylabel('TPR or Recall')\n",
    "plt.show()"
   ]
  }
 ],
 "metadata": {
  "kernelspec": {
   "display_name": "Python 3 (ipykernel)",
   "language": "python",
   "name": "python3"
  },
  "language_info": {
   "codemirror_mode": {
    "name": "ipython",
    "version": 3
   },
   "file_extension": ".py",
   "mimetype": "text/x-python",
   "name": "python",
   "nbconvert_exporter": "python",
   "pygments_lexer": "ipython3",
   "version": "3.9.13"
  }
 },
 "nbformat": 4,
 "nbformat_minor": 5
}
