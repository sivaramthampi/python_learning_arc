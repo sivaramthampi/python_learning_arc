{
 "cells": [
  {
   "cell_type": "code",
   "execution_count": 187,
   "id": "cd0f3989",
   "metadata": {},
   "outputs": [
    {
     "data": {
      "text/html": [
       "<div>\n",
       "<style scoped>\n",
       "    .dataframe tbody tr th:only-of-type {\n",
       "        vertical-align: middle;\n",
       "    }\n",
       "\n",
       "    .dataframe tbody tr th {\n",
       "        vertical-align: top;\n",
       "    }\n",
       "\n",
       "    .dataframe thead th {\n",
       "        text-align: right;\n",
       "    }\n",
       "</style>\n",
       "<table border=\"1\" class=\"dataframe\">\n",
       "  <thead>\n",
       "    <tr style=\"text-align: right;\">\n",
       "      <th></th>\n",
       "      <th>0</th>\n",
       "      <th>1</th>\n",
       "    </tr>\n",
       "  </thead>\n",
       "  <tbody>\n",
       "    <tr>\n",
       "      <th>0</th>\n",
       "      <td>ham</td>\n",
       "      <td>Go until jurong point, crazy.. Available only ...</td>\n",
       "    </tr>\n",
       "    <tr>\n",
       "      <th>1</th>\n",
       "      <td>ham</td>\n",
       "      <td>Ok lar... Joking wif u oni...</td>\n",
       "    </tr>\n",
       "    <tr>\n",
       "      <th>2</th>\n",
       "      <td>spam</td>\n",
       "      <td>Free entry in 2 a wkly comp to win FA Cup fina...</td>\n",
       "    </tr>\n",
       "    <tr>\n",
       "      <th>3</th>\n",
       "      <td>ham</td>\n",
       "      <td>U dun say so early hor... U c already then say...</td>\n",
       "    </tr>\n",
       "    <tr>\n",
       "      <th>4</th>\n",
       "      <td>ham</td>\n",
       "      <td>Nah I don't think he goes to usf, he lives aro...</td>\n",
       "    </tr>\n",
       "    <tr>\n",
       "      <th>...</th>\n",
       "      <td>...</td>\n",
       "      <td>...</td>\n",
       "    </tr>\n",
       "    <tr>\n",
       "      <th>5567</th>\n",
       "      <td>spam</td>\n",
       "      <td>This is the 2nd time we have tried 2 contact u...</td>\n",
       "    </tr>\n",
       "    <tr>\n",
       "      <th>5568</th>\n",
       "      <td>ham</td>\n",
       "      <td>Will ü b going to esplanade fr home?</td>\n",
       "    </tr>\n",
       "    <tr>\n",
       "      <th>5569</th>\n",
       "      <td>ham</td>\n",
       "      <td>Pity, * was in mood for that. So...any other s...</td>\n",
       "    </tr>\n",
       "    <tr>\n",
       "      <th>5570</th>\n",
       "      <td>ham</td>\n",
       "      <td>The guy did some bitching but I acted like i'd...</td>\n",
       "    </tr>\n",
       "    <tr>\n",
       "      <th>5571</th>\n",
       "      <td>ham</td>\n",
       "      <td>Rofl. Its true to its name</td>\n",
       "    </tr>\n",
       "  </tbody>\n",
       "</table>\n",
       "<p>5572 rows × 2 columns</p>\n",
       "</div>"
      ],
      "text/plain": [
       "         0                                                  1\n",
       "0      ham  Go until jurong point, crazy.. Available only ...\n",
       "1      ham                      Ok lar... Joking wif u oni...\n",
       "2     spam  Free entry in 2 a wkly comp to win FA Cup fina...\n",
       "3      ham  U dun say so early hor... U c already then say...\n",
       "4      ham  Nah I don't think he goes to usf, he lives aro...\n",
       "...    ...                                                ...\n",
       "5567  spam  This is the 2nd time we have tried 2 contact u...\n",
       "5568   ham               Will ü b going to esplanade fr home?\n",
       "5569   ham  Pity, * was in mood for that. So...any other s...\n",
       "5570   ham  The guy did some bitching but I acted like i'd...\n",
       "5571   ham                         Rofl. Its true to its name\n",
       "\n",
       "[5572 rows x 2 columns]"
      ]
     },
     "execution_count": 187,
     "metadata": {},
     "output_type": "execute_result"
    }
   ],
   "source": [
    "import pandas as pd\n",
    "df = pd.read_csv('SMSSpamCollection',delimiter='\\t',header=None)\n",
    "df"
   ]
  },
  {
   "cell_type": "code",
   "execution_count": 188,
   "id": "276f3cbf",
   "metadata": {},
   "outputs": [
    {
     "name": "stdout",
     "output_type": "stream",
     "text": [
      "Number of spam messages 747\n"
     ]
    }
   ],
   "source": [
    "print('Number of spam messages',df[df[0]=='spam'][0].count())"
   ]
  },
  {
   "cell_type": "code",
   "execution_count": 189,
   "id": "d550767b",
   "metadata": {},
   "outputs": [
    {
     "name": "stdout",
     "output_type": "stream",
     "text": [
      "Number of spam messages 4825\n"
     ]
    }
   ],
   "source": [
    "print('Number of spam messages',df[df[0]=='ham'][0].count())"
   ]
  },
  {
   "cell_type": "code",
   "execution_count": 190,
   "id": "aedcb0ef",
   "metadata": {},
   "outputs": [],
   "source": [
    "import numpy as np\n",
    "from sklearn.linear_model import LogisticRegression\n",
    "from sklearn.feature_extraction.text import TfidfVectorizer\n",
    "from sklearn.model_selection import train_test_split,cross_val_score"
   ]
  },
  {
   "cell_type": "code",
   "execution_count": 191,
   "id": "971d52aa",
   "metadata": {},
   "outputs": [],
   "source": [
    "xtrain,xtest,ytrain,ytest = train_test_split(df.iloc[:,1],df.iloc[:,0],random_state = 50)"
   ]
  },
  {
   "cell_type": "code",
   "execution_count": 192,
   "id": "b3e2c811",
   "metadata": {},
   "outputs": [
    {
     "data": {
      "text/plain": [
       "(4179,)"
      ]
     },
     "execution_count": 192,
     "metadata": {},
     "output_type": "execute_result"
    }
   ],
   "source": [
    "xtrain.shape"
   ]
  },
  {
   "cell_type": "code",
   "execution_count": 193,
   "id": "fea6bd9b",
   "metadata": {},
   "outputs": [
    {
     "data": {
      "text/plain": [
       "(1393,)"
      ]
     },
     "execution_count": 193,
     "metadata": {},
     "output_type": "execute_result"
    }
   ],
   "source": [
    "xtest.shape"
   ]
  },
  {
   "cell_type": "code",
   "execution_count": 194,
   "id": "b27a4311",
   "metadata": {},
   "outputs": [
    {
     "name": "stdout",
     "output_type": "stream",
     "text": [
      "(4179, 7380)\n",
      "(1393, 7380)\n"
     ]
    }
   ],
   "source": [
    "vectorizer = TfidfVectorizer() \n",
    "xtrain = vectorizer.fit_transform(xtrain)\n",
    "xtest = vectorizer.transform(xtest)\n",
    "print(xtrain.shape)\n",
    "print(xtest.shape)"
   ]
  },
  {
   "cell_type": "code",
   "execution_count": 195,
   "id": "e7d0cf85",
   "metadata": {},
   "outputs": [
    {
     "data": {
      "text/plain": [
       "LogisticRegression()"
      ]
     },
     "execution_count": 195,
     "metadata": {},
     "output_type": "execute_result"
    }
   ],
   "source": [
    "classifier = LogisticRegression()\n",
    "classifier.fit(xtrain,ytrain)"
   ]
  },
  {
   "cell_type": "code",
   "execution_count": 196,
   "id": "e5d4f391",
   "metadata": {},
   "outputs": [],
   "source": [
    "prediction = classifier.predict(xtest)"
   ]
  },
  {
   "cell_type": "code",
   "execution_count": 197,
   "id": "18449f97",
   "metadata": {},
   "outputs": [
    {
     "name": "stdout",
     "output_type": "stream",
     "text": [
      "['spam' 'ham' 'ham' 'ham' 'spam']\n"
     ]
    }
   ],
   "source": [
    "print(prediction[:5])"
   ]
  },
  {
   "cell_type": "code",
   "execution_count": 198,
   "id": "93634fe8",
   "metadata": {},
   "outputs": [
    {
     "name": "stdout",
     "output_type": "stream",
     "text": [
      "3409    spam\n",
      "2103     ham\n",
      "2665     ham\n",
      "3239     ham\n",
      "1205    spam\n",
      "Name: 0, dtype: object\n"
     ]
    }
   ],
   "source": [
    "print(ytest[:5])"
   ]
  },
  {
   "cell_type": "code",
   "execution_count": 199,
   "id": "e127f5f9",
   "metadata": {},
   "outputs": [
    {
     "data": {
      "image/png": "[encoded data removed]",
      "text/plain": [
       "<Figure size 480x480 with 1 Axes>"
      ]
     },
     "metadata": {},
     "output_type": "display_data"
    }
   ],
   "source": [
    "from sklearn.metrics import confusion_matrix\n",
    "import matplotlib.pyplot as plt\n",
    "y_test = [0,0,0,0,0,1,1,1,1,1]\n",
    "y_pred = [0,1,0,0,0,0,0,1,1,1]\n",
    "confusion = confusion_matrix(y_test,y_pred)\n",
    "# print(confusion) # Matrix\n",
    "plt.matshow(confusion)\n",
    "plt.title(\"Confusion Matrix\")\n",
    "plt.xlabel('Actual')\n",
    "plt.ylabel(\"Predicted\")\n",
    "plt.show()"
   ]
  },
  {
   "cell_type": "code",
   "execution_count": 200,
   "id": "e3e3ae5b",
   "metadata": {},
   "outputs": [
    {
     "name": "stdout",
     "output_type": "stream",
     "text": [
      "Accuracy = 0.5\n"
     ]
    }
   ],
   "source": [
    "from sklearn.metrics import accuracy_score\n",
    "ypred,ytrue = [0, 1, 1, 0], [1, 1, 1, 1]\n",
    "print(\"Accuracy =\",accuracy_score(ypred,ytrue))"
   ]
  },
  {
   "cell_type": "code",
   "execution_count": 201,
   "id": "f83819d0",
   "metadata": {},
   "outputs": [
    {
     "name": "stdout",
     "output_type": "stream",
     "text": [
      "CV scores = [0.94856459 0.9569378  0.94736842 0.96411483 0.95568862]\n",
      "Mean = 0.9545348537375011\n"
     ]
    }
   ],
   "source": [
    "scores = cross_val_score(classifier,xtrain,ytrain,cv=5)\n",
    "print(\"CV scores =\",scores)\n",
    "print(\"Mean =\",np.mean(scores))"
   ]
  },
  {
   "cell_type": "markdown",
   "id": "24543ab6",
   "metadata": {},
   "source": [
    "#### Precision"
   ]
  },
  {
   "cell_type": "code",
   "execution_count": 202,
   "id": "b1b85b62",
   "metadata": {},
   "outputs": [
    {
     "data": {
      "text/plain": [
       "array([[0],\n",
       "       [0],\n",
       "       [0],\n",
       "       ...,\n",
       "       [0],\n",
       "       [1],\n",
       "       [0]])"
      ]
     },
     "execution_count": 202,
     "metadata": {},
     "output_type": "execute_result"
    }
   ],
   "source": [
    "from sklearn.preprocessing import LabelBinarizer\n",
    "lb = LabelBinarizer()\n",
    "y_train = lb.fit_transform(ytrain)\n",
    "classifier.fit(xtrain,y_train)\n",
    "y_train"
   ]
  },
  {
   "cell_type": "code",
   "execution_count": 203,
   "id": "bd4586db",
   "metadata": {},
   "outputs": [
    {
     "name": "stdout",
     "output_type": "stream",
     "text": [
      "Scores = [0.98630137 1.         1.         1.         0.97530864]\n",
      "Mean = 0.9923220023676645\n"
     ]
    }
   ],
   "source": [
    "import warnings\n",
    "warnings.filterwarnings('ignore')\n",
    "scores = cross_val_score(classifier,xtrain,y_train,cv=5,scoring='precision')\n",
    "print(\"Scores =\",scores)\n",
    "print(\"Mean =\",np.mean(scores))"
   ]
  },
  {
   "cell_type": "markdown",
   "id": "a7c08bce",
   "metadata": {},
   "source": [
    "### F1 score"
   ]
  },
  {
   "cell_type": "code",
   "execution_count": 204,
   "id": "7530b4bb",
   "metadata": {},
   "outputs": [
    {
     "name": "stdout",
     "output_type": "stream",
     "text": [
      "CV scores = [0.77005348 0.8125     0.76086957 0.85       0.81025641]\n",
      "Mean = 0.8007358902819262\n"
     ]
    }
   ],
   "source": [
    "scores = cross_val_score(classifier,xtrain,y_train,cv=5,scoring='f1')\n",
    "print(\"CV scores =\",scores)\n",
    "print(\"Mean =\",np.mean(scores))"
   ]
  },
  {
   "cell_type": "markdown",
   "id": "5e24cf85",
   "metadata": {},
   "source": [
    "### Recall Score"
   ]
  },
  {
   "cell_type": "code",
   "execution_count": 205,
   "id": "63218a95",
   "metadata": {},
   "outputs": [
    {
     "name": "stdout",
     "output_type": "stream",
     "text": [
      "CV scores = [0.63157895 0.68421053 0.61403509 0.73913043 0.69298246]\n",
      "Mean = 0.6723874904652938\n"
     ]
    }
   ],
   "source": [
    "scores = cross_val_score(classifier,xtrain,y_train,cv=5,scoring='recall')\n",
    "print(\"CV scores =\",scores)\n",
    "print(\"Mean =\",np.mean(scores))"
   ]
  },
  {
   "cell_type": "code",
   "execution_count": 206,
   "id": "19e8ee08",
   "metadata": {},
   "outputs": [
    {
     "name": "stdout",
     "output_type": "stream",
     "text": [
      "(1393,)\n"
     ]
    }
   ],
   "source": [
    "y_predicted = classifier.predict(xtest)\n",
    "print(y_predicted.shape)"
   ]
  },
  {
   "cell_type": "code",
   "execution_count": 207,
   "id": "548c6862",
   "metadata": {},
   "outputs": [
    {
     "data": {
      "text/plain": [
       "(1393, 1)"
      ]
     },
     "execution_count": 207,
     "metadata": {},
     "output_type": "execute_result"
    }
   ],
   "source": [
    "ytest = lb.transform(ytest)\n",
    "ytest.shape"
   ]
  },
  {
   "cell_type": "code",
   "execution_count": 208,
   "id": "e31a3cd7",
   "metadata": {},
   "outputs": [],
   "source": [
    "ytest = np.reshape(ytest,(ytest.shape[0],))"
   ]
  },
  {
   "cell_type": "code",
   "execution_count": 209,
   "id": "19539c8b",
   "metadata": {},
   "outputs": [
    {
     "name": "stdout",
     "output_type": "stream",
     "text": [
      "(1393,)\n",
      "(1393,)\n"
     ]
    }
   ],
   "source": [
    "print(ytest.shape)\n",
    "print(y_predicted.shape)"
   ]
  },
  {
   "cell_type": "code",
   "execution_count": 210,
   "id": "38de8679",
   "metadata": {},
   "outputs": [
    {
     "name": "stdout",
     "output_type": "stream",
     "text": [
      "[[1215   32]\n",
      " [   2  144]]\n"
     ]
    }
   ],
   "source": [
    "conf_matrix = confusion_matrix(y_predicted,ytest)\n",
    "print(conf_matrix)"
   ]
  },
  {
   "cell_type": "code",
   "execution_count": 211,
   "id": "dc50dcbb",
   "metadata": {},
   "outputs": [
    {
     "data": {
      "image/png": "[encoded data removed]",
      "text/plain": [
       "<Figure size 480x480 with 2 Axes>"
      ]
     },
     "metadata": {},
     "output_type": "display_data"
    }
   ],
   "source": [
    "plt.matshow(conf_matrix)\n",
    "plt.title(\"Confusion Matrix\")\n",
    "plt.ylabel('Prediction')\n",
    "plt.xlabel('Actual')\n",
    "plt.colorbar()\n",
    "plt.show()"
   ]
  },
  {
   "cell_type": "code",
   "execution_count": null,
   "id": "35ed640b",
   "metadata": {},
   "outputs": [],
   "source": []
  }
 ],
 "metadata": {
  "kernelspec": {
   "display_name": "Python 3 (ipykernel)",
   "language": "python",
   "name": "python3"
  },
  "language_info": {
   "codemirror_mode": {
    "name": "ipython",
    "version": 3
   },
   "file_extension": ".py",
   "mimetype": "text/x-python",
   "name": "python",
   "nbconvert_exporter": "python",
   "pygments_lexer": "ipython3",
   "version": "3.9.13"
  }
 },
 "nbformat": 4,
 "nbformat_minor": 5
}
