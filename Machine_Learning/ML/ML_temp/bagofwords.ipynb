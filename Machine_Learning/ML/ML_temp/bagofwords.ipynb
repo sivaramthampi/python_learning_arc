{
 "cells": [
  {
   "cell_type": "code",
   "execution_count": 1,
   "id": "7fe778cb",
   "metadata": {},
   "outputs": [],
   "source": [
    "from sklearn.feature_extraction.text import CountVectorizer"
   ]
  },
  {
   "cell_type": "code",
   "execution_count": 2,
   "id": "cb2c9938",
   "metadata": {},
   "outputs": [],
   "source": [
    "corpus = ['UNC played Duke in basketaball',\n",
    "         'Duke lost the basketball game']"
   ]
  },
  {
   "cell_type": "code",
   "execution_count": 5,
   "id": "f772d9c8",
   "metadata": {},
   "outputs": [
    {
     "name": "stdout",
     "output_type": "stream",
     "text": [
      "[[1 0 1 0 1 0 1 0 1]\n",
      " [0 1 1 1 0 1 0 1 0]]\n",
      "{'unc': 8, 'played': 6, 'duke': 2, 'in': 4, 'basketaball': 0, 'lost': 5, 'the': 7, 'basketball': 1, 'game': 3}\n"
     ]
    }
   ],
   "source": [
    "vectoriser = CountVectorizer()\n",
    "print(vectoriser.fit_transform(corpus).todense())\n",
    "print(vectoriser.vocabulary_)"
   ]
  },
  {
   "cell_type": "code",
   "execution_count": null,
   "id": "1c67587f",
   "metadata": {},
   "outputs": [],
   "source": []
  }
 ],
 "metadata": {
  "kernelspec": {
   "display_name": "Python 3 (ipykernel)",
   "language": "python",
   "name": "python3"
  },
  "language_info": {
   "codemirror_mode": {
    "name": "ipython",
    "version": 3
   },
   "file_extension": ".py",
   "mimetype": "text/x-python",
   "name": "python",
   "nbconvert_exporter": "python",
   "pygments_lexer": "ipython3",
   "version": "3.9.13"
  }
 },
 "nbformat": 4,
 "nbformat_minor": 5
}
